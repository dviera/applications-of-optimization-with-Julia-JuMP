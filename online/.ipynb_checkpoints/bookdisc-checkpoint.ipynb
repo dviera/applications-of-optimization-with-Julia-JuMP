{
 "cells": [
  {
   "cell_type": "markdown",
   "metadata": {},
   "source": [
    "### FICO Xpress Optimization Examples Repository\n",
    "https://examples.xpress.fico.com/example.pl?id=bookstore"
   ]
  },
  {
   "cell_type": "code",
   "execution_count": 1,
   "metadata": {},
   "outputs": [],
   "source": [
    "using JuMP\n",
    "using Gurobi\n",
    "using Random\n",
    "using LinearAlgebra: dot"
   ]
  },
  {
   "cell_type": "code",
   "execution_count": 2,
   "metadata": {},
   "outputs": [
    {
     "data": {
      "text/plain": [
       "0.001"
      ]
     },
     "execution_count": 2,
     "metadata": {},
     "output_type": "execute_result"
    }
   ],
   "source": [
    "N = 8 # number of books\n",
    "D = 4 # number of days\n",
    "DISC = 0.001"
   ]
  },
  {
   "cell_type": "code",
   "execution_count": 3,
   "metadata": {},
   "outputs": [],
   "source": [
    "Random.seed!(10)\n",
    "#COST = [10 + 50 * Random.rand() for i in 1:N]\n",
    "COST = [38,48,39,13,59,12,21,17]; # this is the random number generated in xpress"
   ]
  },
  {
   "cell_type": "code",
   "execution_count": 4,
   "metadata": {},
   "outputs": [
    {
     "data": {
      "text/plain": [
       "8×4 Array{VariableRef,2}:\n",
       " ifbuy[1,1]  ifbuy[1,2]  ifbuy[1,3]  ifbuy[1,4]\n",
       " ifbuy[2,1]  ifbuy[2,2]  ifbuy[2,3]  ifbuy[2,4]\n",
       " ifbuy[3,1]  ifbuy[3,2]  ifbuy[3,3]  ifbuy[3,4]\n",
       " ifbuy[4,1]  ifbuy[4,2]  ifbuy[4,3]  ifbuy[4,4]\n",
       " ifbuy[5,1]  ifbuy[5,2]  ifbuy[5,3]  ifbuy[5,4]\n",
       " ifbuy[6,1]  ifbuy[6,2]  ifbuy[6,3]  ifbuy[6,4]\n",
       " ifbuy[7,1]  ifbuy[7,2]  ifbuy[7,3]  ifbuy[7,4]\n",
       " ifbuy[8,1]  ifbuy[8,2]  ifbuy[8,3]  ifbuy[8,4]"
      ]
     },
     "execution_count": 4,
     "metadata": {},
     "output_type": "execute_result"
    }
   ],
   "source": [
    "bookdisc = Model(Gurobi.Optimizer)\n",
    "@variable(bookdisc, ifbuy[1:N, 1:D], Bin)"
   ]
  },
  {
   "cell_type": "code",
   "execution_count": 5,
   "metadata": {},
   "outputs": [],
   "source": [
    "a = 0\n",
    "for i in 1:D-1\n",
    "    a += sum((ifbuy .* COST)[j,i] for j in 1:N) * sum((ifbuy .* COST)[j,i+1] for j in 1:N) * DISC\n",
    "end\n",
    "\n",
    "@variable(bookdisc, aux)\n",
    "@constraint(bookdisc, aux >= sum(COST) - a)\n",
    "@objective(bookdisc, Min, aux);"
   ]
  },
  {
   "cell_type": "code",
   "execution_count": 6,
   "metadata": {},
   "outputs": [
    {
     "data": {
      "text/plain": [
       "8-element Array{ConstraintRef{Model,MathOptInterface.ConstraintIndex{MathOptInterface.ScalarAffineFunction{Float64},MathOptInterface.EqualTo{Float64}},ScalarShape},1}:\n",
       " ifbuy[1,1] + ifbuy[1,2] + ifbuy[1,3] + ifbuy[1,4] == 1.0\n",
       " ifbuy[2,1] + ifbuy[2,2] + ifbuy[2,3] + ifbuy[2,4] == 1.0\n",
       " ifbuy[3,1] + ifbuy[3,2] + ifbuy[3,3] + ifbuy[3,4] == 1.0\n",
       " ifbuy[4,1] + ifbuy[4,2] + ifbuy[4,3] + ifbuy[4,4] == 1.0\n",
       " ifbuy[5,1] + ifbuy[5,2] + ifbuy[5,3] + ifbuy[5,4] == 1.0\n",
       " ifbuy[6,1] + ifbuy[6,2] + ifbuy[6,3] + ifbuy[6,4] == 1.0\n",
       " ifbuy[7,1] + ifbuy[7,2] + ifbuy[7,3] + ifbuy[7,4] == 1.0\n",
       " ifbuy[8,1] + ifbuy[8,2] + ifbuy[8,3] + ifbuy[8,4] == 1.0"
      ]
     },
     "execution_count": 6,
     "metadata": {},
     "output_type": "execute_result"
    }
   ],
   "source": [
    "@constraint(bookdisc, sum(ifbuy[:, j] for j in 1:D) .== 1)"
   ]
  },
  {
   "cell_type": "code",
   "execution_count": 7,
   "metadata": {},
   "outputs": [
    {
     "name": "stdout",
     "output_type": "stream",
     "text": [
      "Min aux\n",
      "Subject to\n",
      " ifbuy[1,1] + ifbuy[1,2] + ifbuy[1,3] + ifbuy[1,4] == 1.0\n",
      " ifbuy[2,1] + ifbuy[2,2] + ifbuy[2,3] + ifbuy[2,4] == 1.0\n",
      " ifbuy[3,1] + ifbuy[3,2] + ifbuy[3,3] + ifbuy[3,4] == 1.0\n",
      " ifbuy[4,1] + ifbuy[4,2] + ifbuy[4,3] + ifbuy[4,4] == 1.0\n",
      " ifbuy[5,1] + ifbuy[5,2] + ifbuy[5,3] + ifbuy[5,4] == 1.0\n",
      " ifbuy[6,1] + ifbuy[6,2] + ifbuy[6,3] + ifbuy[6,4] == 1.0\n",
      " ifbuy[7,1] + ifbuy[7,2] + ifbuy[7,3] + ifbuy[7,4] == 1.0\n",
      " ifbuy[8,1] + ifbuy[8,2] + ifbuy[8,3] + ifbuy[8,4] == 1.0\n",
      " 1.444 ifbuy[1,1]*ifbuy[1,2] + 1.824 ifbuy[1,1]*ifbuy[2,2] + 1.482 ifbuy[1,1]*ifbuy[3,2] + 0.494 ifbuy[1,1]*ifbuy[4,2] + 2.242 ifbuy[1,1]*ifbuy[5,2] + 0.456 ifbuy[1,1]*ifbuy[6,2] + 0.798 ifbuy[1,1]*ifbuy[7,2] + 0.646 ifbuy[1,1]*ifbuy[8,2] + 1.824 ifbuy[2,1]*ifbuy[1,2] + 2.3040000000000003 ifbuy[2,1]*ifbuy[2,2] + 1.872 ifbuy[2,1]*ifbuy[3,2] + 0.624 ifbuy[2,1]*ifbuy[4,2] + 2.832 ifbuy[2,1]*ifbuy[5,2] + 0.5760000000000001 ifbuy[2,1]*ifbuy[6,2] + 1.008 ifbuy[2,1]*ifbuy[7,2] + 0.8160000000000001 ifbuy[2,1]*ifbuy[8,2] + 1.482 ifbuy[3,1]*ifbuy[1,2] + 1.872 ifbuy[3,1]*ifbuy[2,2] + 1.5210000000000001 ifbuy[3,1]*ifbuy[3,2] + 0.507 ifbuy[3,1]*ifbuy[4,2] + 2.301 ifbuy[3,1]*ifbuy[5,2] + 0.468 ifbuy[3,1]*ifbuy[6,2] + 0.8190000000000001 ifbuy[3,1]*ifbuy[7,2] + 0.663 ifbuy[3,1]*ifbuy[8,2] + 0.494 ifbuy[4,1]*ifbuy[1,2] + 0.624 ifbuy[4,1]*ifbuy[2,2] + 0.507 ifbuy[4,1]*ifbuy[3,2] + 0.169 ifbuy[4,1]*ifbuy[4,2] + 0.767 ifbuy[4,1]*ifbuy[5,2] + 0.156 ifbuy[4,1]*ifbuy[6,2] + 0.273 ifbuy[4,1]*ifbuy[7,2] + 0.221 ifbuy[4,1]*ifbuy[8,2] + 2.242 ifbuy[5,1]*ifbuy[1,2] + 2.832 ifbuy[5,1]*ifbuy[2,2] + 2.301 ifbuy[5,1]*ifbuy[3,2] + 0.767 ifbuy[5,1]*ifbuy[4,2] + 3.481 ifbuy[5,1]*ifbuy[5,2] + 0.708 ifbuy[5,1]*ifbuy[6,2] + 1.239 ifbuy[5,1]*ifbuy[7,2] + 1.0030000000000001 ifbuy[5,1]*ifbuy[8,2] + 0.456 ifbuy[6,1]*ifbuy[1,2] + 0.5760000000000001 ifbuy[6,1]*ifbuy[2,2] + 0.468 ifbuy[6,1]*ifbuy[3,2] + 0.156 ifbuy[6,1]*ifbuy[4,2] + 0.708 ifbuy[6,1]*ifbuy[5,2] + 0.14400000000000002 ifbuy[6,1]*ifbuy[6,2] + 0.252 ifbuy[6,1]*ifbuy[7,2] + 0.20400000000000001 ifbuy[6,1]*ifbuy[8,2] + 0.798 ifbuy[7,1]*ifbuy[1,2] + 1.008 ifbuy[7,1]*ifbuy[2,2] + 0.8190000000000001 ifbuy[7,1]*ifbuy[3,2] + 0.273 ifbuy[7,1]*ifbuy[4,2] + 1.239 ifbuy[7,1]*ifbuy[5,2] + 0.252 ifbuy[7,1]*ifbuy[6,2] + 0.441 ifbuy[7,1]*ifbuy[7,2] + 0.357 ifbuy[7,1]*ifbuy[8,2] + 0.646 ifbuy[8,1]*ifbuy[1,2] + 0.8160000000000001 ifbuy[8,1]*ifbuy[2,2] + 0.663 ifbuy[8,1]*ifbuy[3,2] + 0.221 ifbuy[8,1]*ifbuy[4,2] + 1.0030000000000001 ifbuy[8,1]*ifbuy[5,2] + 0.20400000000000001 ifbuy[8,1]*ifbuy[6,2] + 0.357 ifbuy[8,1]*ifbuy[7,2] + 0.289 ifbuy[8,1]*ifbuy[8,2] + 1.444 ifbuy[1,2]*ifbuy[1,3] + 1.824 ifbuy[1,2]*ifbuy[2,3] + 1.482 ifbuy[1,2]*ifbuy[3,3] + 0.494 ifbuy[1,2]*ifbuy[4,3] + 2.242 ifbuy[1,2]*ifbuy[5,3] + 0.456 ifbuy[1,2]*ifbuy[6,3] + 0.798 ifbuy[1,2]*ifbuy[7,3] + 0.646 ifbuy[1,2]*ifbuy[8,3] + 1.824 ifbuy[2,2]*ifbuy[1,3] + 2.3040000000000003 ifbuy[2,2]*ifbuy[2,3] + 1.872 ifbuy[2,2]*ifbuy[3,3] + 0.624 ifbuy[2,2]*ifbuy[4,3] + 2.832 ifbuy[2,2]*ifbuy[5,3] + 0.5760000000000001 ifbuy[2,2]*ifbuy[6,3] + 1.008 ifbuy[2,2]*ifbuy[7,3] + 0.8160000000000001 ifbuy[2,2]*ifbuy[8,3] + 1.482 ifbuy[3,2]*ifbuy[1,3] + 1.872 ifbuy[3,2]*ifbuy[2,3] + 1.5210000000000001 ifbuy[3,2]*ifbuy[3,3] + 0.507 ifbuy[3,2]*ifbuy[4,3] + 2.301 ifbuy[3,2]*ifbuy[5,3] + 0.468 ifbuy[3,2]*ifbuy[6,3] + 0.8190000000000001 ifbuy[3,2]*ifbuy[7,3] + 0.663 ifbuy[3,2]*ifbuy[8,3] + 0.494 ifbuy[4,2]*ifbuy[1,3] + 0.624 ifbuy[4,2]*ifbuy[2,3] + 0.507 ifbuy[4,2]*ifbuy[3,3] + 0.169 ifbuy[4,2]*ifbuy[4,3] + 0.767 ifbuy[4,2]*ifbuy[5,3] + 0.156 ifbuy[4,2]*ifbuy[6,3] + 0.273 ifbuy[4,2]*ifbuy[7,3] + 0.221 ifbuy[4,2]*ifbuy[8,3] + 2.242 ifbuy[5,2]*ifbuy[1,3] + 2.832 ifbuy[5,2]*ifbuy[2,3] + 2.301 ifbuy[5,2]*ifbuy[3,3] + 0.767 ifbuy[5,2]*ifbuy[4,3] + 3.481 ifbuy[5,2]*ifbuy[5,3] + 0.708 ifbuy[5,2]*ifbuy[6,3] + 1.239 ifbuy[5,2]*ifbuy[7,3] + 1.0030000000000001 ifbuy[5,2]*ifbuy[8,3] + 0.456 ifbuy[6,2]*ifbuy[1,3] + 0.5760000000000001 ifbuy[6,2]*ifbuy[2,3] + 0.468 ifbuy[6,2]*ifbuy[3,3] + 0.156 ifbuy[6,2]*ifbuy[4,3] + 0.708 ifbuy[6,2]*ifbuy[5,3] + 0.14400000000000002 ifbuy[6,2]*ifbuy[6,3] + 0.252 ifbuy[6,2]*ifbuy[7,3] + 0.20400000000000001 ifbuy[6,2]*ifbuy[8,3] + 0.798 ifbuy[7,2]*ifbuy[1,3] + 1.008 ifbuy[7,2]*ifbuy[2,3] + 0.8190000000000001 ifbuy[7,2]*ifbuy[3,3] + 0.273 ifbuy[7,2]*ifbuy[4,3] + 1.239 ifbuy[7,2]*ifbuy[5,3] + 0.252 ifbuy[7,2]*ifbuy[6,3] + 0.441 ifbuy[7,2]*ifbuy[7,3] + 0.357 ifbuy[7,2]*ifbuy[8,3] + 0.646 ifbuy[8,2]*ifbuy[1,3] + 0.8160000000000001 ifbuy[8,2]*ifbuy[2,3] + 0.663 ifbuy[8,2]*ifbuy[3,3] + 0.221 ifbuy[8,2]*ifbuy[4,3] + 1.0030000000000001 ifbuy[8,2]*ifbuy[5,3] + 0.20400000000000001 ifbuy[8,2]*ifbuy[6,3] + 0.357 ifbuy[8,2]*ifbuy[7,3] + 0.289 ifbuy[8,2]*ifbuy[8,3] + 1.444 ifbuy[1,3]*ifbuy[1,4] + 1.824 ifbuy[1,3]*ifbuy[2,4] + 1.482 ifbuy[1,3]*ifbuy[3,4] + 0.494 ifbuy[1,3]*ifbuy[4,4] + 2.242 ifbuy[1,3]*ifbuy[5,4] + 0.456 ifbuy[1,3]*ifbuy[6,4] + 0.798 ifbuy[1,3]*ifbuy[7,4] + 0.646 ifbuy[1,3]*ifbuy[8,4] + 1.824 ifbuy[2,3]*ifbuy[1,4] + 2.3040000000000003 ifbuy[2,3]*ifbuy[2,4] + 1.872 ifbuy[2,3]*ifbuy[3,4] + 0.624 ifbuy[2,3]*ifbuy[4,4] + 2.832 ifbuy[2,3]*ifbuy[5,4] + 0.5760000000000001 ifbuy[2,3]*ifbuy[6,4] + 1.008 ifbuy[2,3]*ifbuy[7,4] + 0.8160000000000001 ifbuy[2,3]*ifbuy[8,4] + 1.482 ifbuy[3,3]*ifbuy[1,4] + 1.872 ifbuy[3,3]*ifbuy[2,4] + 1.5210000000000001 ifbuy[3,3]*ifbuy[3,4] + 0.507 ifbuy[3,3]*ifbuy[4,4] + 2.301 ifbuy[3,3]*ifbuy[5,4] + 0.468 ifbuy[3,3]*ifbuy[6,4] + 0.8190000000000001 ifbuy[3,3]*ifbuy[7,4] + 0.663 ifbuy[3,3]*ifbuy[8,4] + 0.494 ifbuy[4,3]*ifbuy[1,4] + 0.624 ifbuy[4,3]*ifbuy[2,4] + 0.507 ifbuy[4,3]*ifbuy[3,4] + 0.169 ifbuy[4,3]*ifbuy[4,4] + 0.767 ifbuy[4,3]*ifbuy[5,4] + 0.156 ifbuy[4,3]*ifbuy[6,4] + 0.273 ifbuy[4,3]*ifbuy[7,4] + 0.221 ifbuy[4,3]*ifbuy[8,4] + 2.242 ifbuy[5,3]*ifbuy[1,4] + 2.832 ifbuy[5,3]*ifbuy[2,4] + 2.301 ifbuy[5,3]*ifbuy[3,4] + 0.767 ifbuy[5,3]*ifbuy[4,4] + 3.481 ifbuy[5,3]*ifbuy[5,4] + 0.708 ifbuy[5,3]*ifbuy[6,4] + 1.239 ifbuy[5,3]*ifbuy[7,4] + 1.0030000000000001 ifbuy[5,3]*ifbuy[8,4] + 0.456 ifbuy[6,3]*ifbuy[1,4] + 0.5760000000000001 ifbuy[6,3]*ifbuy[2,4] + 0.468 ifbuy[6,3]*ifbuy[3,4] + 0.156 ifbuy[6,3]*ifbuy[4,4] + 0.708 ifbuy[6,3]*ifbuy[5,4] + 0.14400000000000002 ifbuy[6,3]*ifbuy[6,4] + 0.252 ifbuy[6,3]*ifbuy[7,4] + 0.20400000000000001 ifbuy[6,3]*ifbuy[8,4] + 0.798 ifbuy[7,3]*ifbuy[1,4] + 1.008 ifbuy[7,3]*ifbuy[2,4] + 0.8190000000000001 ifbuy[7,3]*ifbuy[3,4] + 0.273 ifbuy[7,3]*ifbuy[4,4] + 1.239 ifbuy[7,3]*ifbuy[5,4] + 0.252 ifbuy[7,3]*ifbuy[6,4] + 0.441 ifbuy[7,3]*ifbuy[7,4] + 0.357 ifbuy[7,3]*ifbuy[8,4] + 0.646 ifbuy[8,3]*ifbuy[1,4] + 0.8160000000000001 ifbuy[8,3]*ifbuy[2,4] + 0.663 ifbuy[8,3]*ifbuy[3,4] + 0.221 ifbuy[8,3]*ifbuy[4,4] + 1.0030000000000001 ifbuy[8,3]*ifbuy[5,4] + 0.20400000000000001 ifbuy[8,3]*ifbuy[6,4] + 0.357 ifbuy[8,3]*ifbuy[7,4] + 0.289 ifbuy[8,3]*ifbuy[8,4] + aux >= 247.0\n",
      " ifbuy[1,1] binary\n",
      " ifbuy[2,1] binary\n",
      " ifbuy[3,1] binary\n",
      " ifbuy[4,1] binary\n",
      " ifbuy[5,1] binary\n",
      " ifbuy[6,1] binary\n",
      " ifbuy[7,1] binary\n",
      " ifbuy[8,1] binary\n",
      " ifbuy[1,2] binary\n",
      " ifbuy[2,2] binary\n",
      " ifbuy[3,2] binary\n",
      " ifbuy[4,2] binary\n",
      " ifbuy[5,2] binary\n",
      " ifbuy[6,2] binary\n",
      " ifbuy[7,2] binary\n",
      " ifbuy[8,2] binary\n",
      " ifbuy[1,3] binary\n",
      " ifbuy[2,3] binary\n",
      " ifbuy[3,3] binary\n",
      " ifbuy[4,3] binary\n",
      " ifbuy[5,3] binary\n",
      " ifbuy[6,3] binary\n",
      " ifbuy[7,3] binary\n",
      " ifbuy[8,3] binary\n",
      " ifbuy[1,4] binary\n",
      " ifbuy[2,4] binary\n",
      " ifbuy[3,4] binary\n",
      " ifbuy[4,4] binary\n",
      " ifbuy[5,4] binary\n",
      " ifbuy[6,4] binary\n",
      " ifbuy[7,4] binary\n",
      " ifbuy[8,4] binary\n",
      "\n"
     ]
    }
   ],
   "source": [
    "println(bookdisc)"
   ]
  },
  {
   "cell_type": "code",
   "execution_count": 8,
   "metadata": {},
   "outputs": [
    {
     "name": "stdout",
     "output_type": "stream",
     "text": [
      "Gurobi Optimizer version 9.0.3 build v9.0.3rc0 (win64)\n",
      "Optimize a model with 8 rows, 33 columns and 32 nonzeros\n",
      "Model fingerprint: 0xdd680599\n",
      "Model has 1 quadratic constraint\n",
      "Variable types: 1 continuous, 32 integer (32 binary)\n",
      "Coefficient statistics:\n",
      "  Matrix range     [1e+00, 1e+00]\n",
      "  QMatrix range    [1e-01, 3e+00]\n",
      "  QLMatrix range   [1e+00, 1e+00]\n",
      "  Objective range  [1e+00, 1e+00]\n",
      "  Bounds range     [0e+00, 0e+00]\n",
      "  RHS range        [1e+00, 1e+00]\n",
      "  QRHS range       [2e+02, 2e+02]\n",
      "Presolve removed 0 rows and 1 columns\n",
      "Presolve time: 0.01s\n",
      "Presolved: 24 rows, 48 columns, 256 nonzeros\n",
      "Variable types: 16 continuous, 32 integer (32 binary)\n",
      "Found heuristic solution: objective 247.0000000\n",
      "\n",
      "Root relaxation: objective 1.981928e+02, 29 iterations, 0.00 seconds\n",
      "\n",
      "    Nodes    |    Current Node    |     Objective Bounds      |     Work\n",
      " Expl Unexpl |  Obj  Depth IntInf | Incumbent    BestBd   Gap | It/Node Time\n",
      "\n",
      "     0     0  198.19280    0   24  247.00000  198.19280  19.8%     -    0s\n",
      "H    0     0                     234.2980000  198.19280  15.4%     -    0s\n",
      "H    0     0                     232.4500000  198.19280  14.7%     -    0s\n",
      "     0     0  204.36654    0   26  232.45000  204.36654  12.1%     -    0s\n",
      "     0     0  210.47040    0   27  232.45000  210.47040  9.46%     -    0s\n",
      "     0     0  217.05107    0   26  232.45000  217.05107  6.62%     -    0s\n",
      "     0     0  217.42107    0   25  232.45000  217.42107  6.47%     -    0s\n",
      "     0     0  217.42107    0   25  232.45000  217.42107  6.47%     -    0s\n",
      "     0     0  217.52226    0   29  232.45000  217.52226  6.42%     -    0s\n",
      "     0     0  220.16748    0   23  232.45000  220.16748  5.28%     -    0s\n",
      "     0     0  220.34057    0   26  232.45000  220.34057  5.21%     -    0s\n",
      "     0     0  220.45144    0   26  232.45000  220.45144  5.16%     -    0s\n",
      "H    0     0                     232.1280000  220.45144  5.03%     -    0s\n",
      "     0     0  220.48533    0   26  232.12800  220.48533  5.02%     -    0s\n",
      "     0     0  220.52385    0   27  232.12800  220.52385  5.00%     -    0s\n",
      "     0     0  220.52385    0   27  232.12800  220.52385  5.00%     -    0s\n",
      "     0     2  220.52385    0   27  232.12800  220.52385  5.00%     -    0s\n",
      "H    4     6                     231.7500000  221.77980  4.30%  17.8    0s\n",
      "*   70    33              13     231.7480000  222.01532  4.20%   5.3    0s\n",
      "\n",
      "Cutting planes:\n",
      "  Gomory: 22\n",
      "  Implied bound: 11\n",
      "  MIR: 16\n",
      "  RLT: 18\n",
      "  Relax-and-lift: 7\n",
      "\n",
      "Explored 3039 nodes (11062 simplex iterations) in 0.67 seconds\n",
      "Thread count was 4 (of 4 available processors)\n",
      "\n",
      "Solution count 6: 231.748 231.75 232.128 ... 247\n",
      "\n",
      "Optimal solution found (tolerance 1.00e-04)\n",
      "Best objective 2.317480000000e+02, best bound 2.317480000000e+02, gap 0.0000%\n"
     ]
    }
   ],
   "source": [
    "optimize!(bookdisc)"
   ]
  },
  {
   "cell_type": "code",
   "execution_count": 9,
   "metadata": {},
   "outputs": [
    {
     "data": {
      "text/plain": [
       "8×4 Array{Float64,2}:\n",
       " 0.0  0.0  1.0  0.0\n",
       " 0.0  1.0  0.0  0.0\n",
       " 0.0  0.0  1.0  0.0\n",
       " 0.0  0.0  1.0  0.0\n",
       " 0.0  1.0  0.0  0.0\n",
       " 0.0  0.0  1.0  3.88578e-15\n",
       " 0.0  0.0  1.0  0.0\n",
       " 0.0  0.0  0.0  1.0"
      ]
     },
     "execution_count": 9,
     "metadata": {},
     "output_type": "execute_result"
    }
   ],
   "source": [
    "value.(ifbuy)"
   ]
  },
  {
   "cell_type": "code",
   "execution_count": 10,
   "metadata": {},
   "outputs": [
    {
     "data": {
      "text/plain": [
       "231.748"
      ]
     },
     "execution_count": 10,
     "metadata": {},
     "output_type": "execute_result"
    }
   ],
   "source": [
    "JuMP.getobjectivevalue(bookdisc)"
   ]
  },
  {
   "cell_type": "markdown",
   "metadata": {},
   "source": [
    "Same cost as the xpress solution but with different ifbuy = 1"
   ]
  }
 ],
 "metadata": {
  "kernelspec": {
   "display_name": "Julia 1.5.0",
   "language": "julia",
   "name": "julia-1.5"
  },
  "language_info": {
   "file_extension": ".jl",
   "mimetype": "application/julia",
   "name": "julia",
   "version": "1.5.0"
  }
 },
 "nbformat": 4,
 "nbformat_minor": 4
}
