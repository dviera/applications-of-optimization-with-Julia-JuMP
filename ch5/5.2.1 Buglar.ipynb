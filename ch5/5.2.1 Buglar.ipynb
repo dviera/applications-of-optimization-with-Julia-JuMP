{
 "cells": [
  {
   "cell_type": "code",
   "execution_count": 1,
   "metadata": {},
   "outputs": [],
   "source": [
    "using JuMP\n",
    "using GLPK\n",
    "using LinearAlgebra: dot"
   ]
  },
  {
   "cell_type": "code",
   "execution_count": 2,
   "metadata": {},
   "outputs": [
    {
     "data": {
      "text/plain": [
       "8-element Array{Int64,1}:\n",
       "  2\n",
       " 20\n",
       " 20\n",
       " 30\n",
       " 40\n",
       " 30\n",
       " 60\n",
       " 10"
      ]
     },
     "execution_count": 2,
     "metadata": {},
     "output_type": "execute_result"
    }
   ],
   "source": [
    "N = 8 # number of items\n",
    "WTMAX = 102\n",
    "VALUE = [15, 100, 90, 60, 40, 15, 10, 1]\n",
    "WEIGHT = [2, 20, 20, 30, 40, 30, 60, 10]"
   ]
  },
  {
   "cell_type": "code",
   "execution_count": 3,
   "metadata": {},
   "outputs": [
    {
     "name": "stdout",
     "output_type": "stream",
     "text": [
      "Max 15 item[1] + 100 item[2] + 90 item[3] + 60 item[4] + 40 item[5] + 15 item[6] + 10 item[7] + item[8]\n",
      "Subject to\n",
      " 2 item[1] + 20 item[2] + 20 item[3] + 30 item[4] + 40 item[5] + 30 item[6] + 60 item[7] + 10 item[8] <= 102.0\n",
      " item[1] binary\n",
      " item[2] binary\n",
      " item[3] binary\n",
      " item[4] binary\n",
      " item[5] binary\n",
      " item[6] binary\n",
      " item[7] binary\n",
      " item[8] binary\n",
      "\n"
     ]
    }
   ],
   "source": [
    "buglar = Model(GLPK.Optimizer)\n",
    "@variable(buglar, item[1:N], Bin)\n",
    "@constraint(buglar, item' * WEIGHT <= WTMAX)\n",
    "@objective(buglar, Max, dot(VALUE, item))\n",
    "println(buglar)"
   ]
  },
  {
   "cell_type": "code",
   "execution_count": 4,
   "metadata": {},
   "outputs": [],
   "source": [
    "optimize!(buglar)"
   ]
  },
  {
   "cell_type": "code",
   "execution_count": 5,
   "metadata": {},
   "outputs": [
    {
     "data": {
      "text/plain": [
       "280.0"
      ]
     },
     "execution_count": 5,
     "metadata": {},
     "output_type": "execute_result"
    }
   ],
   "source": [
    "JuMP.getobjectivevalue(buglar)"
   ]
  },
  {
   "cell_type": "code",
   "execution_count": 6,
   "metadata": {},
   "outputs": [
    {
     "data": {
      "text/plain": [
       "8-element Array{Float64,1}:\n",
       " 1.0\n",
       " 1.0\n",
       " 1.0\n",
       " 1.0\n",
       " 0.0\n",
       " 1.0\n",
       " 0.0\n",
       " 0.0"
      ]
     },
     "execution_count": 6,
     "metadata": {},
     "output_type": "execute_result"
    }
   ],
   "source": [
    "value.(item)"
   ]
  }
 ],
 "metadata": {
  "kernelspec": {
   "display_name": "Julia 1.5.0",
   "language": "julia",
   "name": "julia-1.5"
  },
  "language_info": {
   "file_extension": ".jl",
   "mimetype": "application/julia",
   "name": "julia",
   "version": "1.5.0"
  }
 },
 "nbformat": 4,
 "nbformat_minor": 4
}
