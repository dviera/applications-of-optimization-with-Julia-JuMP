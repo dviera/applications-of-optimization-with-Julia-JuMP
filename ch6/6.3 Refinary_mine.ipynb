{
 "cells": [
  {
   "cell_type": "code",
   "execution_count": 206,
   "metadata": {},
   "outputs": [],
   "source": [
    "using JuMP\n",
    "using GLPK"
   ]
  },
  {
   "cell_type": "code",
   "execution_count": 213,
   "metadata": {},
   "outputs": [
    {
     "name": "stdout",
     "output_type": "stream",
     "text": [
      "Min 2.1 crude1 + 2.1 crude2 + 4.18 naphtha + 0.6 residue + 2.04 gasoil\n",
      "Subject to\n",
      " crknaphtha - petcrknaphtha - hocrknaphtha - dslcrknaphtha == 0.0\n",
      " crkgasoil - hocrkgasoil - dslcrkgasoil == 0.0\n",
      " gasoil - hogasoil - dslgasoil == 0.0\n",
      " butane - refbutane - disbutane + petbutane == 0.0\n",
      " petrol - petbutane - petcrknaphtha - reformate == 0.0\n",
      " diesel - dslcrkgasoil - dslcrknaphtha - dslgasoil == 0.0\n",
      " heating - hocrkgasoil - hocrknaphtha - hogasoil == 0.0\n",
      " butane >= 20000.0\n",
      " petrol >= 40000.0\n",
      " diesel >= 30000.0\n",
      " heating >= 42000.0\n",
      " octane_value : 120 petbutane + 100 reformate + 74 petcrknaphtha - 94 petrol >= 0.0\n",
      " volatility : 105 petbutane + 3 reformate + 12 petcrknaphtha - 17 petrol >= 0.0\n",
      " disbutane - 0.03 crude1 - 0.05 crude2 <= 0.0\n",
      " naphtha - 0.15 crude1 - 0.2 crude2 <= 0.0\n",
      " residue - 0.15 crude1 - 0.1 crude2 <= 0.0\n",
      " gasoil - 0.4 crude1 - 0.35 crude2 <= 0.0\n",
      " refbutane - 0.15 naphtha <= 0.0\n",
      " reformate - 0.85 naphtha <= 0.0\n",
      " crknaphtha - 0.4 residue <= 0.0\n",
      " crkgasoil - 0.35 residue <= 0.0\n",
      " crude1 <= 250000.0\n",
      " crude2 <= 500000.0\n",
      " naphtha <= 30000.0\n",
      " residue <= 40000.0\n",
      " gasoil <= 50000.0\n",
      " vapor_pressure : 60 petbutane + 2.6 reformate + 4.1 petcrknaphtha - 12.7 petrol <= 0.0\n",
      " sulfur : 0.12 dslcrknaphtha + 0.76 dslcrkgasoil + 0.03 dslgasoil - 0.05 diesel <= 0.0\n",
      " crude1 >= 0.0\n",
      " crude2 >= 0.0\n",
      " butane >= 0.0\n",
      " petrol >= 0.0\n",
      " diesel >= 0.0\n",
      " heating >= 0.0\n",
      " disbutane >= 0.0\n",
      " naphtha >= 0.0\n",
      " residue >= 0.0\n",
      " gasoil >= 0.0\n",
      " refbutane >= 0.0\n",
      " reformate >= 0.0\n",
      " crknaphtha >= 0.0\n",
      " crkgasoil >= 0.0\n",
      " petbutane >= 0.0\n",
      " petcrknaphtha >= 0.0\n",
      " hocrknaphtha >= 0.0\n",
      " hocrkgasoil >= 0.0\n",
      " hogasoil >= 0.0\n",
      " dslcrknaphtha >= 0.0\n",
      " dslcrkgasoil >= 0.0\n",
      " dslgasoil >= 0.0\n",
      "\n"
     ]
    }
   ],
   "source": [
    "model = Model(GLPK.Optimizer)\n",
    "\n",
    "# decision variable\n",
    "@variable(model, crude1 >= 0)\n",
    "@variable(model, crude2 >= 0)\n",
    "\n",
    "# output variable\n",
    "@variable(model, butane >= 0)\n",
    "@variable(model, petrol >= 0)\n",
    "@variable(model, diesel >= 0)\n",
    "@variable(model, heating >= 0)\n",
    "\n",
    "# distillation variables\n",
    "@variable(model, disbutane >= 0)\n",
    "@variable(model, naphtha >= 0)\n",
    "@variable(model, residue >= 0)\n",
    "@variable(model, gasoil >= 0)\n",
    "\n",
    "# reforming variable\n",
    "@variable(model, refbutane >= 0)\n",
    "@variable(model, reformate >= 0)\n",
    "\n",
    "# cracking\n",
    "@variable(model, crknaphtha >= 0)\n",
    "@variable(model, crkgasoil >= 0)\n",
    "\n",
    "# input petrol\n",
    "@variable(model, petbutane >= 0)\n",
    "@variable(model, petcrknaphtha >= 0)\n",
    "\n",
    "# input heating oil\n",
    "@variable(model, hocrknaphtha >= 0)\n",
    "@variable(model, hocrkgasoil >= 0)\n",
    "@variable(model, hogasoil >= 0)\n",
    "\n",
    "# input diesel oil\n",
    "@variable(model, dslcrknaphtha >= 0)\n",
    "@variable(model, dslcrkgasoil >= 0)\n",
    "@variable(model, dslgasoil >= 0)\n",
    "\n",
    "# distillation constraint\n",
    "@constraint(model, disbutane <= 0.03 * crude1 + 0.05 * crude2)\n",
    "@constraint(model, naphtha <= 0.15 * crude1 + 0.2 * crude2)\n",
    "@constraint(model, residue <= 0.15 * crude1 + 0.1 * crude2)\n",
    "@constraint(model, gasoil <= 0.4 * crude1 + 0.35 * crude2)\n",
    "\n",
    "# reforming constraint\n",
    "@constraint(model, refbutane <= 0.15 * naphtha)\n",
    "@constraint(model, reformate <= 0.85 * naphtha)\n",
    "\n",
    "# cracking constraint\n",
    "@constraint(model, crknaphtha <= 0.4 * residue)\n",
    "@constraint(model, crkgasoil <= 0.35 * residue)\n",
    "\n",
    "# balance\n",
    "@constraint(model, crknaphtha == petcrknaphtha + hocrknaphtha + dslcrknaphtha)\n",
    "@constraint(model, crkgasoil == hocrkgasoil + dslcrkgasoil)\n",
    "@constraint(model, gasoil == hogasoil + dslgasoil)\n",
    "\n",
    "# demand constraint\n",
    "@constraint(model, butane >= 20000)\n",
    "@constraint(model, petrol >= 40000)\n",
    "@constraint(model, diesel >= 30000)\n",
    "@constraint(model, heating >= 42000)\n",
    "\n",
    "# raw material constraint\n",
    "@constraint(model, crude1 <= 250000)\n",
    "@constraint(model, crude2 <= 500000)\n",
    "\n",
    "# capacities\n",
    "@constraint(model, naphtha <= 30000) # reformer\n",
    "@constraint(model, residue <= 40000) # cracking\n",
    "@constraint(model, gasoil <= 50000) # desulfurization\n",
    "\n",
    "# characteristics\n",
    "@constraint(model, octane_value, 120 * petbutane + 100 * reformate + 74 * petcrknaphtha >= 94 * petrol)\n",
    "@constraint(model, vapor_pressure, 60 * petbutane + 2.6 * reformate + 4.1 * petcrknaphtha <= 12.7 * petrol)\n",
    "@constraint(model, volatility, 105 * petbutane + 3 * reformate + 12 * petcrknaphtha >= 17 * petrol)\n",
    "@constraint(model, sulfur, 0.12 * dslcrknaphtha + 0.76 * dslcrkgasoil + 0.03 * dslgasoil <= 0.05 * diesel)\n",
    "\n",
    "# final product\n",
    "@constraint(model, butane == refbutane + disbutane - petbutane)\n",
    "@constraint(model, petrol == petbutane + petcrknaphtha + reformate)\n",
    "@constraint(model, diesel == dslcrkgasoil + dslcrknaphtha + dslgasoil)\n",
    "@constraint(model, heating == hocrkgasoil + hocrknaphtha + hogasoil)\n",
    "\n",
    "\n",
    "# objective\n",
    "crudeCost = 2.1 * (crude1 + crude2)\n",
    "disCost = 0 * disbutane + 4.18 * naphtha + 0.6 * residue + 2.04 * gasoil\n",
    "@objective(model, Min, crudeCost + disCost)\n",
    "\n",
    "println(model)"
   ]
  },
  {
   "cell_type": "code",
   "execution_count": 214,
   "metadata": {},
   "outputs": [],
   "source": [
    "optimize!(model)"
   ]
  },
  {
   "cell_type": "code",
   "execution_count": 215,
   "metadata": {},
   "outputs": [
    {
     "data": {
      "text/plain": [
       "OPTIMAL::TerminationStatusCode = 1"
      ]
     },
     "execution_count": 215,
     "metadata": {},
     "output_type": "execute_result"
    }
   ],
   "source": [
    "JuMP.termination_status(model)"
   ]
  },
  {
   "cell_type": "code",
   "execution_count": 216,
   "metadata": {},
   "outputs": [
    {
     "data": {
      "text/plain": [
       "1.1754e6"
      ]
     },
     "execution_count": 216,
     "metadata": {},
     "output_type": "execute_result"
    }
   ],
   "source": [
    "JuMP.getobjectivevalue(model)"
   ]
  },
  {
   "cell_type": "code",
   "execution_count": 217,
   "metadata": {},
   "outputs": [
    {
     "data": {
      "text/plain": [
       "(0.0, 440000.00000000006)"
      ]
     },
     "execution_count": 217,
     "metadata": {},
     "output_type": "execute_result"
    }
   ],
   "source": [
    "value.(crude1), value.(crude2)"
   ]
  },
  {
   "cell_type": "code",
   "execution_count": 229,
   "metadata": {},
   "outputs": [
    {
     "data": {
      "text/plain": [
       "4-element Array{Float64,1}:\n",
       " 20000.0\n",
       " 40000.0\n",
       " 30000.0\n",
       " 42000.0"
      ]
     },
     "execution_count": 229,
     "metadata": {},
     "output_type": "execute_result"
    }
   ],
   "source": [
    "round.([value.(butane), value.(petrol), value.(diesel), value.(heating)], digits = 1)"
   ]
  },
  {
   "cell_type": "code",
   "execution_count": 219,
   "metadata": {},
   "outputs": [
    {
     "data": {
      "text/plain": [
       "(22000.000000000004, 29999.999999999993, 49999.99999999997, 39999.99999999999)"
      ]
     },
     "execution_count": 219,
     "metadata": {},
     "output_type": "execute_result"
    }
   ],
   "source": [
    "value.(disbutane), value.(naphtha), value.(gasoil), value.(residue)"
   ]
  },
  {
   "cell_type": "code",
   "execution_count": 220,
   "metadata": {},
   "outputs": [
    {
     "data": {
      "text/plain": [
       "(4499.999999999999, 25499.999999999985)"
      ]
     },
     "execution_count": 220,
     "metadata": {},
     "output_type": "execute_result"
    }
   ],
   "source": [
    "value.(refbutane), value.(reformate)"
   ]
  },
  {
   "cell_type": "code",
   "execution_count": 221,
   "metadata": {},
   "outputs": [
    {
     "data": {
      "text/plain": [
       "98.04999999999998"
      ]
     },
     "execution_count": 221,
     "metadata": {},
     "output_type": "execute_result"
    }
   ],
   "source": [
    "( 120 * value.(petbutane) + 100 * value.(reformate) + 74 * value.(petcrknaphtha) ) / value.(petrol)"
   ]
  },
  {
   "cell_type": "code",
   "execution_count": 222,
   "metadata": {},
   "outputs": [
    {
     "data": {
      "text/plain": [
       "12.227499999999994"
      ]
     },
     "execution_count": 222,
     "metadata": {},
     "output_type": "execute_result"
    }
   ],
   "source": [
    "( 60 * value.(petbutane) + 2.6 * value.(reformate) + 4.1 * value.(petcrknaphtha) ) / value.(petrol)"
   ]
  },
  {
   "cell_type": "code",
   "execution_count": 223,
   "metadata": {},
   "outputs": [
    {
     "data": {
      "text/plain": [
       "21.374999999999996"
      ]
     },
     "execution_count": 223,
     "metadata": {},
     "output_type": "execute_result"
    }
   ],
   "source": [
    "( 105 * value.(petbutane) + 3 * value.(reformate) + 12 * value.(petcrknaphtha) ) / value.(petrol)"
   ]
  },
  {
   "cell_type": "code",
   "execution_count": 224,
   "metadata": {},
   "outputs": [
    {
     "data": {
      "text/plain": [
       "0.049999999999999996"
      ]
     },
     "execution_count": 224,
     "metadata": {},
     "output_type": "execute_result"
    }
   ],
   "source": [
    "( 0.12 * value.(dslcrknaphtha) + 0.76 * value.(dslcrkgasoil) + 0.03 * value.(dslgasoil) ) / value.(diesel)"
   ]
  },
  {
   "cell_type": "code",
   "execution_count": null,
   "metadata": {},
   "outputs": [],
   "source": []
  }
 ],
 "metadata": {
  "kernelspec": {
   "display_name": "Julia 1.5.0",
   "language": "julia",
   "name": "julia-1.5"
  },
  "language_info": {
   "file_extension": ".jl",
   "mimetype": "application/julia",
   "name": "julia",
   "version": "1.5.0"
  }
 },
 "nbformat": 4,
 "nbformat_minor": 4
}
