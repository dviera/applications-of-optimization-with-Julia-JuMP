{
 "cells": [
  {
   "cell_type": "code",
   "execution_count": 276,
   "metadata": {},
   "outputs": [],
   "source": [
    "using JuMP\n",
    "using GLPK"
   ]
  },
  {
   "cell_type": "code",
   "execution_count": 277,
   "metadata": {},
   "outputs": [
    {
     "data": {
      "text/plain": [
       "Dict{String,Real} with 6 entries:\n",
       "  \"naphtha\"    => 4.18\n",
       "  \"residue\"    => 0.6\n",
       "  \"distbutane\" => 0\n",
       "  \"crude2\"     => 2.1\n",
       "  \"crude1\"     => 2.1\n",
       "  \"gasoil\"     => 2.04"
      ]
     },
     "execution_count": 277,
     "metadata": {},
     "output_type": "execute_result"
    }
   ],
   "source": [
    "AVAIL = Dict(\"crude2\" => 500000, \"crude1\" => 250000)\n",
    "\n",
    "DEM = Dict(\n",
    "  \"butane\"  => 20000,\n",
    "  \"heating\" => 42000,\n",
    "  \"petrol\"  => 40000,\n",
    "  \"diesel\"  => 30000,\n",
    "    )\n",
    "\n",
    "DIST = Dict(\n",
    "    (\"crude1\", \"gasoil\")     => 0.4, \n",
    "    (\"crude1\", \"residue\")    => 0.15,\n",
    "    (\"crude1\", \"naphtha\")    => 0.15,\n",
    "    (\"crude2\", \"gasoil\")     => 0.35,\n",
    "    (\"crude2\", \"residue\")    => 0.1,\n",
    "    (\"crude1\", \"distbutane\") => 0.03,\n",
    "    (\"crude2\", \"naphtha\")    => 0.2,\n",
    "    (\"crude2\", \"distbutane\") => 0.05\n",
    "    )\n",
    "\n",
    "REF = Dict(\n",
    "    \"reformate\" => 0.85,\n",
    "    \"refbutane\" => 0.15\n",
    "    )\n",
    "\n",
    "CRACK = Dict(\n",
    "    \"crknaphtha\" => 0.4,\n",
    "    \"crkgasoil\"  => 0.35\n",
    "    )\n",
    "\n",
    "OCT = Dict(\n",
    "    \"petcrknaphtha\" => 74,\n",
    "    \"reformate\"     => 100,\n",
    "    \"petbutane\"     => 120\n",
    "    )\n",
    "\n",
    "VAP = Dict(\"petbutane\" =>  60, \"reformate\" => 2.6, \"petcrknaphtha\" => 4.1)\n",
    "VOL = Dict(\"petbutane\" => 105, \"reformate\" => 3, \"petcrknaphtha\" => 12)\n",
    "\n",
    "SULF = Dict(\"dslgasoil\" => 0.03, \"dslcrknaphtha\" => 0.12, \"dslcrkgasoil\" => 0.76)\n",
    "\n",
    "COST = Dict(\"crude1\" => 2.1, \n",
    "    \"crude2\" => 2.1,\n",
    "    \"distbutane\" => 0,\n",
    "    \"naphtha\" => 4.18,\n",
    "    \"residue\" => 0.6,\n",
    "    \"gasoil\" => 2.04\n",
    "    )"
   ]
  },
  {
   "cell_type": "code",
   "execution_count": 278,
   "metadata": {},
   "outputs": [
    {
     "data": {
      "text/plain": [
       "3-element Array{String,1}:\n",
       " \"hogasoil\"\n",
       " \"hocrknaphtha\"\n",
       " \"hocrkgasoil\""
      ]
     },
     "execution_count": 278,
     "metadata": {},
     "output_type": "execute_result"
    }
   ],
   "source": [
    "CRUDES = collect(keys(AVAIL))\n",
    "FINAL = collect(keys(DEM))\n",
    "IDIST = unique([x[2] for x in collect(keys(DIST))])\n",
    "IREF = collect(keys(REF))\n",
    "ICRACK = collect(keys(CRACK))\n",
    "IPETROL = collect(keys(OCT))\n",
    "IDIESEL = collect(keys(SULF))\n",
    "IHO = [\"hogasoil\", \"hocrknaphtha\", \"hocrkgasoil\"]"
   ]
  },
  {
   "cell_type": "code",
   "execution_count": 279,
   "metadata": {},
   "outputs": [
    {
     "data": {
      "text/plain": [
       "20-element Array{String,1}:\n",
       " \"butane\"\n",
       " \"heating\"\n",
       " \"petrol\"\n",
       " \"diesel\"\n",
       " \"gasoil\"\n",
       " \"residue\"\n",
       " \"naphtha\"\n",
       " \"distbutane\"\n",
       " \"reformate\"\n",
       " \"refbutane\"\n",
       " \"crknaphtha\"\n",
       " \"crkgasoil\"\n",
       " \"petcrknaphtha\"\n",
       " \"petbutane\"\n",
       " \"hogasoil\"\n",
       " \"hocrknaphtha\"\n",
       " \"hocrkgasoil\"\n",
       " \"dslcrknaphtha\"\n",
       " \"dslgasoil\"\n",
       " \"dslcrkgasoil\""
      ]
     },
     "execution_count": 279,
     "metadata": {},
     "output_type": "execute_result"
    }
   ],
   "source": [
    "ALLPRODS = unique([FINAL; IDIST; IREF; ICRACK; IPETROL; IHO; IDIESEL])"
   ]
  },
  {
   "cell_type": "code",
   "execution_count": 280,
   "metadata": {},
   "outputs": [],
   "source": [
    "model = Model(GLPK.Optimizer)\n",
    "@variable(model, c[1:2] >= 0)\n",
    "set_name.(c, CRUDES)\n",
    "\n",
    "@variable(model, x[1:length(ALLPRODS)] >= 0)\n",
    "set_name.(x, ALLPRODS);\n",
    "\n",
    "# Objective function\n",
    "@objective(model, Min, sum(variable_by_name(model, i) * COST[i] for i in CRUDES) + sum(variable_by_name(model, i) * COST[i] for i in IDIST))\n",
    "\n",
    "# Relations intermediate products resulting of distillation - raw materials\n",
    "for p in IDIST\n",
    "    @constraint(model, variable_by_name(model, p) <= sum(DIST[(i, p)] * variable_by_name(model, i) for i in CRUDES))\n",
    "end\n",
    "\n",
    "# Relations between intermediate products\n",
    "# Reforming:\n",
    "for p in IREF\n",
    "    @constraint(model, variable_by_name(model, p) <= REF[p] * variable_by_name(model, \"naphtha\"))\n",
    "end\n",
    "\n",
    "#Cracking:\n",
    "for p in ICRACK\n",
    "    @constraint(model, variable_by_name(model, p) <= CRACK[p] * variable_by_name(model, \"residue\"))\n",
    "end\n",
    "\n",
    "@constraint(model, variable_by_name(model, \"crknaphtha\") == variable_by_name(model, \"petcrknaphtha\") +\n",
    "    variable_by_name(model, \"hocrknaphtha\") +\n",
    "    variable_by_name(model, \"dslcrknaphtha\")\n",
    "    )\n",
    "@constraint(model, variable_by_name(model, \"crkgasoil\") == variable_by_name(model, \"hocrkgasoil\") +\n",
    "    variable_by_name(model, \"dslcrkgasoil\")\n",
    "    )\n",
    "\n",
    "# Desulfurization:\n",
    "@constraint(model, variable_by_name(model, \"gasoil\") == variable_by_name(model, \"hogasoil\") +\n",
    "    variable_by_name(model, \"dslgasoil\")\n",
    "    )\n",
    "\n",
    "# Relations final products - intermediate products\n",
    "@constraint(model, variable_by_name(model, \"butane\") == variable_by_name(model, \"distbutane\") +\n",
    "    variable_by_name(model, \"refbutane\") -\n",
    "    variable_by_name(model, \"petbutane\")\n",
    "    )\n",
    "\n",
    "@constraint(model, variable_by_name(model, \"petrol\") == sum(variable_by_name(model, p) for p in IPETROL))\n",
    "@constraint(model, variable_by_name(model, \"diesel\") == sum(variable_by_name(model, p) for p in IDIESEL))\n",
    "@constraint(model, variable_by_name(model, \"heating\") == sum(variable_by_name(model, p) for p in IHO))\n",
    "\n",
    "# Properties of petrol\n",
    "@constraint(model, sum(OCT[p] * variable_by_name(model, p) for p in IPETROL) >= 94 * variable_by_name(model, \"petrol\"))\n",
    "@constraint(model, sum(VAP[p] * variable_by_name(model, p) for p in IPETROL) <= 12.7 * variable_by_name(model, \"petrol\"))\n",
    "@constraint(model, sum(VOL[p] * variable_by_name(model, p) for p in IPETROL) >= 17 * variable_by_name(model, \"petrol\"))\n",
    "\n",
    "# Limit on sulfur in diesel oil\n",
    "@constraint(model, sum(SULF[p] * variable_by_name(model, p) for p in IDIESEL) <= 0.05 * variable_by_name(model, \"diesel\"))\n",
    "\n",
    "# Crude availabilities\n",
    "for crud in CRUDES\n",
    "    @constraint(model, variable_by_name(model, crud) <= AVAIL[crud])\n",
    "end\n",
    "\n",
    "\n",
    "# Production capacities\n",
    "@constraint(model, variable_by_name(model, \"naphtha\") <= 30000)               # Reformer\n",
    "@constraint(model, variable_by_name(model, \"gasoil\") <= 50000)                # Desulfurization\n",
    "@constraint(model, variable_by_name(model, \"residue\") <= 40000)               # Cracker\n",
    "\n",
    "# Satisfy demands\n",
    "for p in FINAL\n",
    "   @constraint(model, variable_by_name(model, p) >= DEM[p])\n",
    "end"
   ]
  },
  {
   "cell_type": "code",
   "execution_count": 281,
   "metadata": {},
   "outputs": [
    {
     "name": "stdout",
     "output_type": "stream",
     "text": [
      "Min 2.1 crude2 + 2.1 crude1 + 2.04 gasoil + 0.6 residue + 4.18 naphtha\n",
      "Subject to\n",
      " crknaphtha - petcrknaphtha - hocrknaphtha - dslcrknaphtha == 0.0\n",
      " crkgasoil - hocrkgasoil - dslcrkgasoil == 0.0\n",
      " gasoil - hogasoil - dslgasoil == 0.0\n",
      " butane - distbutane - refbutane + petbutane == 0.0\n",
      " petrol - petcrknaphtha - reformate - petbutane == 0.0\n",
      " diesel - dslcrknaphtha - dslgasoil - dslcrkgasoil == 0.0\n",
      " heating - hogasoil - hocrknaphtha - hocrkgasoil == 0.0\n",
      " 74 petcrknaphtha + 100 reformate + 120 petbutane - 94 petrol >= 0.0\n",
      " 12 petcrknaphtha + 3 reformate + 105 petbutane - 17 petrol >= 0.0\n",
      " butane >= 20000.0\n",
      " heating >= 42000.0\n",
      " petrol >= 40000.0\n",
      " diesel >= 30000.0\n",
      " gasoil - 0.35 crude2 - 0.4 crude1 <= 0.0\n",
      " residue - 0.1 crude2 - 0.15 crude1 <= 0.0\n",
      " naphtha - 0.2 crude2 - 0.15 crude1 <= 0.0\n",
      " distbutane - 0.05 crude2 - 0.03 crude1 <= 0.0\n",
      " reformate - 0.85 naphtha <= 0.0\n",
      " refbutane - 0.15 naphtha <= 0.0\n",
      " crknaphtha - 0.4 residue <= 0.0\n",
      " crkgasoil - 0.35 residue <= 0.0\n",
      " 4.1 petcrknaphtha + 2.6 reformate + 60 petbutane - 12.7 petrol <= 0.0\n",
      " 0.12 dslcrknaphtha + 0.03 dslgasoil + 0.76 dslcrkgasoil - 0.05 diesel <= 0.0\n",
      " crude2 <= 500000.0\n",
      " crude1 <= 250000.0\n",
      " naphtha <= 30000.0\n",
      " gasoil <= 50000.0\n",
      " residue <= 40000.0\n",
      " crude2 >= 0.0\n",
      " crude1 >= 0.0\n",
      " butane >= 0.0\n",
      " heating >= 0.0\n",
      " petrol >= 0.0\n",
      " diesel >= 0.0\n",
      " gasoil >= 0.0\n",
      " residue >= 0.0\n",
      " naphtha >= 0.0\n",
      " distbutane >= 0.0\n",
      " reformate >= 0.0\n",
      " refbutane >= 0.0\n",
      " crknaphtha >= 0.0\n",
      " crkgasoil >= 0.0\n",
      " petcrknaphtha >= 0.0\n",
      " petbutane >= 0.0\n",
      " hogasoil >= 0.0\n",
      " hocrknaphtha >= 0.0\n",
      " hocrkgasoil >= 0.0\n",
      " dslcrknaphtha >= 0.0\n",
      " dslgasoil >= 0.0\n",
      " dslcrkgasoil >= 0.0\n",
      "\n"
     ]
    }
   ],
   "source": [
    "println(model)"
   ]
  },
  {
   "cell_type": "code",
   "execution_count": 282,
   "metadata": {},
   "outputs": [],
   "source": [
    "optimize!(model)"
   ]
  },
  {
   "cell_type": "code",
   "execution_count": 283,
   "metadata": {},
   "outputs": [
    {
     "data": {
      "text/plain": [
       "OPTIMAL::TerminationStatusCode = 1"
      ]
     },
     "execution_count": 283,
     "metadata": {},
     "output_type": "execute_result"
    }
   ],
   "source": [
    "JuMP.termination_status(model)"
   ]
  },
  {
   "cell_type": "code",
   "execution_count": 285,
   "metadata": {},
   "outputs": [
    {
     "data": {
      "text/plain": [
       "1.1754e6"
      ]
     },
     "execution_count": 285,
     "metadata": {},
     "output_type": "execute_result"
    }
   ],
   "source": [
    "JuMP.getobjectivevalue(model)"
   ]
  },
  {
   "cell_type": "code",
   "execution_count": 286,
   "metadata": {},
   "outputs": [
    {
     "data": {
      "text/plain": [
       "20×2 Array{Any,2}:\n",
       " \"butane\"         20000.0\n",
       " \"heating\"        42000.0\n",
       " \"petrol\"         40000.0\n",
       " \"diesel\"         30000.0\n",
       " \"gasoil\"         50000.0\n",
       " \"residue\"        40000.0\n",
       " \"naphtha\"        30000.0\n",
       " \"distbutane\"     22000.0\n",
       " \"reformate\"      25500.0\n",
       " \"refbutane\"       4500.0\n",
       " \"crknaphtha\"     16000.0\n",
       " \"crkgasoil\"      14000.0\n",
       " \"petcrknaphtha\"   8000.0\n",
       " \"petbutane\"       6500.0\n",
       " \"hogasoil\"       26666.7\n",
       " \"hocrknaphtha\"    1333.33\n",
       " \"hocrkgasoil\"    14000.0\n",
       " \"dslcrknaphtha\"   6666.67\n",
       " \"dslgasoil\"      23333.3\n",
       " \"dslcrkgasoil\"       0.0"
      ]
     },
     "execution_count": 286,
     "metadata": {},
     "output_type": "execute_result"
    }
   ],
   "source": [
    "hcat(ALLPRODS, value.(x))"
   ]
  },
  {
   "cell_type": "code",
   "execution_count": null,
   "metadata": {},
   "outputs": [],
   "source": []
  }
 ],
 "metadata": {
  "kernelspec": {
   "display_name": "Julia 1.5.0",
   "language": "julia",
   "name": "julia-1.5"
  },
  "language_info": {
   "file_extension": ".jl",
   "mimetype": "application/julia",
   "name": "julia",
   "version": "1.5.0"
  }
 },
 "nbformat": 4,
 "nbformat_minor": 4
}
