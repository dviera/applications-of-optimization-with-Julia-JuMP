{
 "cells": [
  {
   "cell_type": "code",
   "execution_count": 40,
   "metadata": {},
   "outputs": [],
   "source": [
    "using JuMP\n",
    "using GLPK\n",
    "using LinearAlgebra\n",
    "using DataFrames"
   ]
  },
  {
   "cell_type": "code",
   "execution_count": 55,
   "metadata": {},
   "outputs": [],
   "source": [
    "cost_l1 = repeat([100], 8)\n",
    "cost_l2 = vcat(1000, repeat([200],4), 1000)\n",
    "cost_l3 = [1000, 1000, 300, 1000]\n",
    "\n",
    "idx = [1, 7, 10, 12, 17, 18]\n",
    "price = [200, 300, 500, 200, 1000, 1200]\n",
    "\n",
    "model = Model(GLPK.Optimizer)\n",
    "@variable(model, block[1:18], Bin)\n",
    "\n",
    "@constraint(model, block[9] <= block[1])\n",
    "@constraint(model, block[9] <= block[2])\n",
    "@constraint(model, block[9] <= block[3])\n",
    "\n",
    "@constraint(model, block[10] <= block[2])\n",
    "@constraint(model, block[10] <= block[3])\n",
    "@constraint(model, block[10] <= block[4])\n",
    "\n",
    "@constraint(model, block[11] <= block[3])\n",
    "@constraint(model, block[11] <= block[4])\n",
    "@constraint(model, block[11] <= block[5])\n",
    "\n",
    "@constraint(model, block[12] <= block[4])\n",
    "@constraint(model, block[12] <= block[5])\n",
    "@constraint(model, block[12] <= block[6])\n",
    "\n",
    "@constraint(model, block[13] <= block[5])\n",
    "@constraint(model, block[13] <= block[6])\n",
    "@constraint(model, block[13] <= block[7])\n",
    "\n",
    "@constraint(model, block[14] <= block[6])\n",
    "@constraint(model, block[14] <= block[7])\n",
    "@constraint(model, block[14] <= block[8])\n",
    "\n",
    "@constraint(model, block[15] <= block[9])\n",
    "@constraint(model, block[15] <= block[10])\n",
    "@constraint(model, block[15] <= block[11])\n",
    "\n",
    "@constraint(model, block[16] <= block[10])\n",
    "@constraint(model, block[16] <= block[11])\n",
    "@constraint(model, block[16] <= block[12])\n",
    "\n",
    "@constraint(model, block[17] <= block[11])\n",
    "@constraint(model, block[17] <= block[12])\n",
    "@constraint(model, block[17] <= block[13])\n",
    "\n",
    "@constraint(model, block[18] <= block[12])\n",
    "@constraint(model, block[18] <= block[13])\n",
    "@constraint(model, block[18] <= block[14])\n",
    "\n",
    "\n",
    "\n",
    "@objective(model, Max, sum(block[j] * price[i] for (i,j) in enumerate(idx)) * 10000 - \n",
    "    (sum(cost_l1[i] * block[i] for i in 1:8) +\n",
    "    sum(cost_l2[i] * block[j] for (i,j) in enumerate(9:14)) +\n",
    "    sum(cost_l3[i] * block[j] for (i,j) in enumerate(15:18))) * 10000\n",
    ");"
   ]
  },
  {
   "cell_type": "code",
   "execution_count": 56,
   "metadata": {},
   "outputs": [],
   "source": [
    "optimize!(model)"
   ]
  },
  {
   "cell_type": "code",
   "execution_count": 57,
   "metadata": {},
   "outputs": [
    {
     "data": {
      "text/plain": [
       "4.0e6"
      ]
     },
     "execution_count": 57,
     "metadata": {},
     "output_type": "execute_result"
    }
   ],
   "source": [
    "JuMP.objective_value(model)"
   ]
  },
  {
   "cell_type": "code",
   "execution_count": 36,
   "metadata": {},
   "outputs": [
    {
     "data": {
      "text/plain": [
       "OPTIMAL::TerminationStatusCode = 1"
      ]
     },
     "execution_count": 36,
     "metadata": {},
     "output_type": "execute_result"
    }
   ],
   "source": [
    "JuMP.termination_status(model)"
   ]
  },
  {
   "cell_type": "code",
   "execution_count": 42,
   "metadata": {},
   "outputs": [
    {
     "data": {
      "text/html": [
       "<table class=\"data-frame\"><thead><tr><th></th><th>block</th><th>decision_variable</th></tr><tr><th></th><th>Variabl…</th><th>Float64</th></tr></thead><tbody><p>18 rows × 2 columns</p><tr><th>1</th><td>block[1]</td><td>1.0</td></tr><tr><th>2</th><td>block[2]</td><td>1.0</td></tr><tr><th>3</th><td>block[3]</td><td>1.0</td></tr><tr><th>4</th><td>block[4]</td><td>1.0</td></tr><tr><th>5</th><td>block[5]</td><td>1.0</td></tr><tr><th>6</th><td>block[6]</td><td>1.0</td></tr><tr><th>7</th><td>block[7]</td><td>1.0</td></tr><tr><th>8</th><td>block[8]</td><td>0.0</td></tr><tr><th>9</th><td>block[9]</td><td>0.0</td></tr><tr><th>10</th><td>block[10]</td><td>1.0</td></tr><tr><th>11</th><td>block[11]</td><td>1.0</td></tr><tr><th>12</th><td>block[12]</td><td>1.0</td></tr><tr><th>13</th><td>block[13]</td><td>1.0</td></tr><tr><th>14</th><td>block[14]</td><td>0.0</td></tr><tr><th>15</th><td>block[15]</td><td>0.0</td></tr><tr><th>16</th><td>block[16]</td><td>0.0</td></tr><tr><th>17</th><td>block[17]</td><td>1.0</td></tr><tr><th>18</th><td>block[18]</td><td>0.0</td></tr></tbody></table>"
      ],
      "text/latex": [
       "\\begin{tabular}{r|cc}\n",
       "\t& block & decision\\_variable\\\\\n",
       "\t\\hline\n",
       "\t& Variabl… & Float64\\\\\n",
       "\t\\hline\n",
       "\t1 & $$ block_{1} $$ & 1.0 \\\\\n",
       "\t2 & $$ block_{2} $$ & 1.0 \\\\\n",
       "\t3 & $$ block_{3} $$ & 1.0 \\\\\n",
       "\t4 & $$ block_{4} $$ & 1.0 \\\\\n",
       "\t5 & $$ block_{5} $$ & 1.0 \\\\\n",
       "\t6 & $$ block_{6} $$ & 1.0 \\\\\n",
       "\t7 & $$ block_{7} $$ & 1.0 \\\\\n",
       "\t8 & $$ block_{8} $$ & 0.0 \\\\\n",
       "\t9 & $$ block_{9} $$ & 0.0 \\\\\n",
       "\t10 & $$ block_{10} $$ & 1.0 \\\\\n",
       "\t11 & $$ block_{11} $$ & 1.0 \\\\\n",
       "\t12 & $$ block_{12} $$ & 1.0 \\\\\n",
       "\t13 & $$ block_{13} $$ & 1.0 \\\\\n",
       "\t14 & $$ block_{14} $$ & 0.0 \\\\\n",
       "\t15 & $$ block_{15} $$ & 0.0 \\\\\n",
       "\t16 & $$ block_{16} $$ & 0.0 \\\\\n",
       "\t17 & $$ block_{17} $$ & 1.0 \\\\\n",
       "\t18 & $$ block_{18} $$ & 0.0 \\\\\n",
       "\\end{tabular}\n"
      ],
      "text/plain": [
       "18×2 DataFrame\n",
       "│ Row │ block     │ decision_variable │\n",
       "│     │ \u001b[90mVariable…\u001b[39m │ \u001b[90mFloat64\u001b[39m           │\n",
       "├─────┼───────────┼───────────────────┤\n",
       "│ 1   │ block[1]  │ 1.0               │\n",
       "│ 2   │ block[2]  │ 1.0               │\n",
       "│ 3   │ block[3]  │ 1.0               │\n",
       "│ 4   │ block[4]  │ 1.0               │\n",
       "│ 5   │ block[5]  │ 1.0               │\n",
       "│ 6   │ block[6]  │ 1.0               │\n",
       "│ 7   │ block[7]  │ 1.0               │\n",
       "│ 8   │ block[8]  │ 0.0               │\n",
       "│ 9   │ block[9]  │ 0.0               │\n",
       "│ 10  │ block[10] │ 1.0               │\n",
       "│ 11  │ block[11] │ 1.0               │\n",
       "│ 12  │ block[12] │ 1.0               │\n",
       "│ 13  │ block[13] │ 1.0               │\n",
       "│ 14  │ block[14] │ 0.0               │\n",
       "│ 15  │ block[15] │ 0.0               │\n",
       "│ 16  │ block[16] │ 0.0               │\n",
       "│ 17  │ block[17] │ 1.0               │\n",
       "│ 18  │ block[18] │ 0.0               │"
      ]
     },
     "execution_count": 42,
     "metadata": {},
     "output_type": "execute_result"
    }
   ],
   "source": [
    "DataFrame(block = block, decision_variable = JuMP.value.(block))"
   ]
  },
  {
   "cell_type": "code",
   "execution_count": null,
   "metadata": {},
   "outputs": [],
   "source": []
  }
 ],
 "metadata": {
  "kernelspec": {
   "display_name": "Julia 1.5.2",
   "language": "julia",
   "name": "julia-1.5"
  },
  "language_info": {
   "file_extension": ".jl",
   "mimetype": "application/julia",
   "name": "julia",
   "version": "1.5.2"
  }
 },
 "nbformat": 4,
 "nbformat_minor": 4
}
