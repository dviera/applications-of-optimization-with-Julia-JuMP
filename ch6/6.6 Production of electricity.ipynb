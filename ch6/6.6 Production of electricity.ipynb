{
 "cells": [
  {
   "cell_type": "code",
   "execution_count": 388,
   "metadata": {},
   "outputs": [],
   "source": [
    "using JuMP\n",
    "using GLPK\n",
    "using DataFrames"
   ]
  },
  {
   "cell_type": "code",
   "execution_count": 389,
   "metadata": {},
   "outputs": [
    {
     "data": {
      "text/html": [
       "<table class=\"data-frame\"><thead><tr><th></th><th>period</th><th>demand</th><th>hours</th></tr><tr><th></th><th>Int64</th><th>Int64</th><th>Int64</th></tr></thead><tbody><p>7 rows × 3 columns</p><tr><th>1</th><td>1</td><td>12000</td><td>6</td></tr><tr><th>2</th><td>2</td><td>32000</td><td>3</td></tr><tr><th>3</th><td>3</td><td>25000</td><td>3</td></tr><tr><th>4</th><td>4</td><td>36000</td><td>2</td></tr><tr><th>5</th><td>5</td><td>25000</td><td>4</td></tr><tr><th>6</th><td>6</td><td>30000</td><td>4</td></tr><tr><th>7</th><td>7</td><td>18000</td><td>2</td></tr></tbody></table>"
      ],
      "text/latex": [
       "\\begin{tabular}{r|ccc}\n",
       "\t& period & demand & hours\\\\\n",
       "\t\\hline\n",
       "\t& Int64 & Int64 & Int64\\\\\n",
       "\t\\hline\n",
       "\t1 & 1 & 12000 & 6 \\\\\n",
       "\t2 & 2 & 32000 & 3 \\\\\n",
       "\t3 & 3 & 25000 & 3 \\\\\n",
       "\t4 & 4 & 36000 & 2 \\\\\n",
       "\t5 & 5 & 25000 & 4 \\\\\n",
       "\t6 & 6 & 30000 & 4 \\\\\n",
       "\t7 & 7 & 18000 & 2 \\\\\n",
       "\\end{tabular}\n"
      ],
      "text/plain": [
       "7×3 DataFrame\n",
       "│ Row │ period │ demand │ hours │\n",
       "│     │ \u001b[90mInt64\u001b[39m  │ \u001b[90mInt64\u001b[39m  │ \u001b[90mInt64\u001b[39m │\n",
       "├─────┼────────┼────────┼───────┤\n",
       "│ 1   │ 1      │ 12000  │ 6     │\n",
       "│ 2   │ 2      │ 32000  │ 3     │\n",
       "│ 3   │ 3      │ 25000  │ 3     │\n",
       "│ 4   │ 4      │ 36000  │ 2     │\n",
       "│ 5   │ 5      │ 25000  │ 4     │\n",
       "│ 6   │ 6      │ 30000  │ 4     │\n",
       "│ 7   │ 7      │ 18000  │ 2     │"
      ]
     },
     "execution_count": 389,
     "metadata": {},
     "output_type": "execute_result"
    }
   ],
   "source": [
    "demand = DataFrame(period = [1,2,3,4,5,6,7],\n",
    "    demand = [12000, 32000, 25000, 36000, 25000, 30000, 18000],\n",
    "    hours = [6,3,3,2,4,4,2]\n",
    ")"
   ]
  },
  {
   "cell_type": "code",
   "execution_count": 390,
   "metadata": {},
   "outputs": [
    {
     "data": {
      "text/plain": [
       "0.2"
      ]
     },
     "execution_count": 390,
     "metadata": {},
     "output_type": "execute_result"
    }
   ],
   "source": [
    "dat = DataFrame(type = [1,2,3,4],\n",
    "    available_number = [10, 4, 8, 3],\n",
    "    min_output = [750, 1000, 1200, 1800],\n",
    "    max_capacity = [1750, 1500, 2000, 3500],\n",
    "    fix_cost = [2250, 1800, 3750, 4800],\n",
    "    additional_cost = [2.7, 2.2, 1.8, 3.8],\n",
    "    start_up_cost = [5000, 1600, 2400, 1200])\n",
    "\n",
    "n_types = maximum(dat.type)\n",
    "n_period = maximum(demand.period)\n",
    "cope_increase = 0.2\n"
   ]
  },
  {
   "cell_type": "code",
   "execution_count": 415,
   "metadata": {},
   "outputs": [],
   "source": [
    "model = Model(GLPK.Optimizer)\n",
    "\n",
    "@variable(model, work[1:n_types, 1:n_period] >= 0, Int)\n",
    "@variable(model, start[1:n_types, 1:n_period] >= 0, Int)\n",
    "@variable(model, padd[1:n_types, 1:n_period] >= 0, Int)\n",
    "\n",
    "for i in 1:n_types\n",
    "    for j in 1:n_period\n",
    "        @constraint(model, work[i, j] <= dat.available_number[i])\n",
    "    end\n",
    "end\n",
    "\n",
    "for i in 1:n_types\n",
    "    for j in 2:n_period\n",
    "        @constraint(model, start[i, j] >= work[i, j] - work[i, j-1])\n",
    "    end\n",
    "end\n",
    "\n",
    "for i in 1:n_types\n",
    "    @constraint(model, start[i, 1] >= work[i, 1] - work[i, n_period])\n",
    "end\n",
    "\n",
    "for j in 1:n_period\n",
    "    for i in 1:n_types\n",
    "        @constraint(model, sum(padd[i, j]) <= (dat.max_capacity[i] - dat.min_output[i]) * work[i, j])\n",
    "    end\n",
    "end\n",
    "\n",
    "for j in 1:n_period\n",
    "    @constraint(model, sum(dat.min_output .* work[:, j] + padd[:, j]) >= demand.demand[j])\n",
    "end\n",
    "\n",
    "for j in 1:n_period\n",
    "    @constraint(model, sum(dat.max_capacity .* work[:, j]) >= 1.2 * demand.demand[j])\n",
    "end\n",
    "\n",
    "# added the cost of the initial start-up\n",
    "# not in the solution --> sum(value.(work[:, 1]) .* dat.start_up_cost)\n",
    "@objective(model, Min, sum(work[:, 1] .* dat.start_up_cost) + sum(sum(start[i, j] * dat.start_up_cost[i] + demand.hours[j] * (dat.fix_cost[i] * work[i,j] + padd[i, j] * dat.additional_cost[i]) for j in 1:n_period) for i in 1:n_types))\n",
    "\n",
    "optimize!(model)"
   ]
  },
  {
   "cell_type": "code",
   "execution_count": 416,
   "metadata": {},
   "outputs": [
    {
     "data": {
      "text/plain": [
       "OPTIMAL::TerminationStatusCode = 1"
      ]
     },
     "execution_count": 416,
     "metadata": {},
     "output_type": "execute_result"
    }
   ],
   "source": [
    "JuMP.termination_status(model)"
   ]
  },
  {
   "cell_type": "code",
   "execution_count": 417,
   "metadata": {},
   "outputs": [
    {
     "data": {
      "text/plain": [
       "1.48723e6"
      ]
     },
     "execution_count": 417,
     "metadata": {},
     "output_type": "execute_result"
    }
   ],
   "source": [
    "JuMP.objective_value(model)"
   ]
  },
  {
   "cell_type": "code",
   "execution_count": 418,
   "metadata": {},
   "outputs": [
    {
     "data": {
      "text/plain": [
       "4×7 Array{Float64,2}:\n",
       "    0.0  1600.0     0.0  3350.0     0.0  1100.0     0.0\n",
       " 1450.0  2000.0   200.0  2000.0  1900.0  2000.0  1650.0\n",
       " 1600.0  6400.0  6400.0  6400.0  5600.0  6400.0  3200.0\n",
       "    0.0     0.0     0.0     0.0     0.0     0.0     0.0"
      ]
     },
     "execution_count": 418,
     "metadata": {},
     "output_type": "execute_result"
    }
   ],
   "source": [
    "JuMP.value.(padd)"
   ]
  },
  {
   "cell_type": "code",
   "execution_count": 419,
   "metadata": {},
   "outputs": [
    {
     "data": {
      "text/plain": [
       "4×7 Array{Float64,2}:\n",
       " 1.0  4.0  4.0  7.0  2.0  2.0  1.0\n",
       " 4.0  4.0  4.0  4.0  4.0  4.0  4.0\n",
       " 2.0  8.0  8.0  8.0  7.0  8.0  4.0\n",
       " 1.0  3.0  1.0  3.0  2.0  3.0  2.0"
      ]
     },
     "execution_count": 419,
     "metadata": {},
     "output_type": "execute_result"
    }
   ],
   "source": [
    "JuMP.value.(work)"
   ]
  },
  {
   "cell_type": "code",
   "execution_count": 420,
   "metadata": {},
   "outputs": [
    {
     "data": {
      "text/plain": [
       "4×7 Array{Float64,2}:\n",
       "  750.0   4600.0   3000.0   8600.0   1500.0   2600.0   750.0\n",
       " 5450.0   6000.0   4200.0   6000.0   5900.0   6000.0  5650.0\n",
       " 4000.0  16000.0  16000.0  16000.0  14000.0  16000.0  8000.0\n",
       " 1800.0   5400.0   1800.0   5400.0   3600.0   5400.0  3600.0"
      ]
     },
     "execution_count": 420,
     "metadata": {},
     "output_type": "execute_result"
    }
   ],
   "source": [
    "JuMP.value.(work) .* dat.min_output .+ JuMP.value.(padd)"
   ]
  },
  {
   "cell_type": "code",
   "execution_count": 421,
   "metadata": {},
   "outputs": [
    {
     "data": {
      "text/plain": [
       "1×7 Array{Float64,2}:\n",
       " 12000.0  32000.0  25000.0  36000.0  25000.0  30000.0  18000.0"
      ]
     },
     "execution_count": 421,
     "metadata": {},
     "output_type": "execute_result"
    }
   ],
   "source": [
    "sum(JuMP.value.(work) .* dat.min_output .+ JuMP.value.(padd), dims = 1)"
   ]
  },
  {
   "cell_type": "code",
   "execution_count": 422,
   "metadata": {},
   "outputs": [
    {
     "data": {
      "text/plain": [
       "4×7 Array{Float64,2}:\n",
       " 0.0  3.0  0.0  3.0  0.0  0.0  0.0\n",
       " 0.0  0.0  0.0  0.0  0.0  0.0  0.0\n",
       " 0.0  6.0  0.0  0.0  0.0  1.0  0.0\n",
       " 0.0  2.0  0.0  2.0  0.0  1.0  0.0"
      ]
     },
     "execution_count": 422,
     "metadata": {},
     "output_type": "execute_result"
    }
   ],
   "source": [
    "JuMP.value.(start)"
   ]
  },
  {
   "cell_type": "code",
   "execution_count": null,
   "metadata": {},
   "outputs": [],
   "source": []
  }
 ],
 "metadata": {
  "kernelspec": {
   "display_name": "Julia 1.5.2",
   "language": "julia",
   "name": "julia-1.5"
  },
  "language_info": {
   "file_extension": ".jl",
   "mimetype": "application/julia",
   "name": "julia",
   "version": "1.5.2"
  }
 },
 "nbformat": 4,
 "nbformat_minor": 4
}
