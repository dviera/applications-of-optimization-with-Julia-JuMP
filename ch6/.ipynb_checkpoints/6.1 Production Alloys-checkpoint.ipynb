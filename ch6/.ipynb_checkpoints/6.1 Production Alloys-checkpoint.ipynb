{
 "cells": [
  {
   "cell_type": "code",
   "execution_count": 1,
   "metadata": {},
   "outputs": [],
   "source": [
    "using JuMP\n",
    "using GLPK\n",
    "using DataFrames\n",
    "using LinearAlgebra: dot"
   ]
  },
  {
   "cell_type": "code",
   "execution_count": 2,
   "metadata": {},
   "outputs": [
    {
     "data": {
      "text/html": [
       "<table class=\"data-frame\"><thead><tr><th></th><th>material</th><th>Carbon</th><th>Cooper</th><th>Manganese</th><th>Availability</th><th>Cost</th></tr><tr><th></th><th>String</th><th>Float64</th><th>Float64</th><th>Float64</th><th>Int64</th><th>Int64</th></tr></thead><tbody><p>7 rows × 6 columns</p><tr><th>1</th><td>Iron alloy 1</td><td>2.5</td><td>0.0</td><td>1.3</td><td>400</td><td>200</td></tr><tr><th>2</th><td>Iron alloy 2</td><td>3.0</td><td>0.0</td><td>0.8</td><td>300</td><td>250</td></tr><tr><th>3</th><td>Iron alloy 3</td><td>0.0</td><td>0.3</td><td>0.0</td><td>600</td><td>150</td></tr><tr><th>4</th><td>Cooper alloy 1</td><td>0.0</td><td>90.0</td><td>0.0</td><td>500</td><td>220</td></tr><tr><th>5</th><td>Cooper alloy 2</td><td>0.0</td><td>96.0</td><td>4.0</td><td>200</td><td>240</td></tr><tr><th>6</th><td>Aluminium alloy 1</td><td>0.0</td><td>0.4</td><td>1.2</td><td>300</td><td>200</td></tr><tr><th>7</th><td>Aluminium alloy 2</td><td>0.0</td><td>0.6</td><td>0.0</td><td>250</td><td>165</td></tr></tbody></table>"
      ],
      "text/latex": [
       "\\begin{tabular}{r|cccccc}\n",
       "\t& material & Carbon & Cooper & Manganese & Availability & Cost\\\\\n",
       "\t\\hline\n",
       "\t& String & Float64 & Float64 & Float64 & Int64 & Int64\\\\\n",
       "\t\\hline\n",
       "\t1 & Iron alloy 1 & 2.5 & 0.0 & 1.3 & 400 & 200 \\\\\n",
       "\t2 & Iron alloy 2 & 3.0 & 0.0 & 0.8 & 300 & 250 \\\\\n",
       "\t3 & Iron alloy 3 & 0.0 & 0.3 & 0.0 & 600 & 150 \\\\\n",
       "\t4 & Cooper alloy 1 & 0.0 & 90.0 & 0.0 & 500 & 220 \\\\\n",
       "\t5 & Cooper alloy 2 & 0.0 & 96.0 & 4.0 & 200 & 240 \\\\\n",
       "\t6 & Aluminium alloy 1 & 0.0 & 0.4 & 1.2 & 300 & 200 \\\\\n",
       "\t7 & Aluminium alloy 2 & 0.0 & 0.6 & 0.0 & 250 & 165 \\\\\n",
       "\\end{tabular}\n"
      ],
      "text/plain": [
       "7×6 DataFrame. Omitted printing of 1 columns\n",
       "│ Row │ material          │ Carbon  │ Cooper  │ Manganese │ Availability │\n",
       "│     │ \u001b[90mString\u001b[39m            │ \u001b[90mFloat64\u001b[39m │ \u001b[90mFloat64\u001b[39m │ \u001b[90mFloat64\u001b[39m   │ \u001b[90mInt64\u001b[39m        │\n",
       "├─────┼───────────────────┼─────────┼─────────┼───────────┼──────────────┤\n",
       "│ 1   │ Iron alloy 1      │ 2.5     │ 0.0     │ 1.3       │ 400          │\n",
       "│ 2   │ Iron alloy 2      │ 3.0     │ 0.0     │ 0.8       │ 300          │\n",
       "│ 3   │ Iron alloy 3      │ 0.0     │ 0.3     │ 0.0       │ 600          │\n",
       "│ 4   │ Cooper alloy 1    │ 0.0     │ 90.0    │ 0.0       │ 500          │\n",
       "│ 5   │ Cooper alloy 2    │ 0.0     │ 96.0    │ 4.0       │ 200          │\n",
       "│ 6   │ Aluminium alloy 1 │ 0.0     │ 0.4     │ 1.2       │ 300          │\n",
       "│ 7   │ Aluminium alloy 2 │ 0.0     │ 0.6     │ 0.0       │ 250          │"
      ]
     },
     "execution_count": 2,
     "metadata": {},
     "output_type": "execute_result"
    }
   ],
   "source": [
    "ORDER = 500\n",
    "\n",
    "ELEMENTS = [\"Carbon\", \"Cooper\", \"Manganese\"]\n",
    "\n",
    "GRADES = DataFrame(elem = ELEMENTS, \n",
    "    min = [2, 0.4, 1.2], \n",
    "    max = [3, 0.6, 1.65])\n",
    "\n",
    "RAW = DataFrame(material = [\"Iron alloy 1\", \"Iron alloy 2\", \"Iron alloy 3\", \"Cooper alloy 1\", \"Cooper alloy 2\", \"Aluminium alloy 1\", \"Aluminium alloy 2\"],\n",
    "    Carbon = [2.5, 3, 0, 0, 0, 0, 0],\n",
    "    Cooper = [0, 0, 0.3, 90, 96, 0.4, 0.6],\n",
    "    Manganese = [1.3, 0.8, 0, 0, 4, 1.2, 0],\n",
    "    Availability = [400, 300, 600, 500, 200, 300, 250],\n",
    "    Cost = [200, 250, 150, 220, 240, 200, 165])"
   ]
  },
  {
   "cell_type": "code",
   "execution_count": 3,
   "metadata": {},
   "outputs": [
    {
     "data": {
      "text/html": [
       "<table class=\"data-frame\"><thead><tr><th></th><th>elem</th><th>min</th><th>max</th></tr><tr><th></th><th>String</th><th>Float64</th><th>Float64</th></tr></thead><tbody><p>3 rows × 3 columns</p><tr><th>1</th><td>Carbon</td><td>2.0</td><td>3.0</td></tr><tr><th>2</th><td>Cooper</td><td>0.4</td><td>0.6</td></tr><tr><th>3</th><td>Manganese</td><td>1.2</td><td>1.65</td></tr></tbody></table>"
      ],
      "text/latex": [
       "\\begin{tabular}{r|ccc}\n",
       "\t& elem & min & max\\\\\n",
       "\t\\hline\n",
       "\t& String & Float64 & Float64\\\\\n",
       "\t\\hline\n",
       "\t1 & Carbon & 2.0 & 3.0 \\\\\n",
       "\t2 & Cooper & 0.4 & 0.6 \\\\\n",
       "\t3 & Manganese & 1.2 & 1.65 \\\\\n",
       "\\end{tabular}\n"
      ],
      "text/plain": [
       "3×3 DataFrame\n",
       "│ Row │ elem      │ min     │ max     │\n",
       "│     │ \u001b[90mString\u001b[39m    │ \u001b[90mFloat64\u001b[39m │ \u001b[90mFloat64\u001b[39m │\n",
       "├─────┼───────────┼─────────┼─────────┤\n",
       "│ 1   │ Carbon    │ 2.0     │ 3.0     │\n",
       "│ 2   │ Cooper    │ 0.4     │ 0.6     │\n",
       "│ 3   │ Manganese │ 1.2     │ 1.65    │"
      ]
     },
     "execution_count": 3,
     "metadata": {},
     "output_type": "execute_result"
    }
   ],
   "source": [
    "GRADES"
   ]
  },
  {
   "cell_type": "code",
   "execution_count": 4,
   "metadata": {},
   "outputs": [
    {
     "data": {
      "text/plain": [
       "(7, 6)"
      ]
     },
     "execution_count": 4,
     "metadata": {},
     "output_type": "execute_result"
    }
   ],
   "source": [
    "m, n = size(RAW)"
   ]
  },
  {
   "cell_type": "code",
   "execution_count": 5,
   "metadata": {},
   "outputs": [],
   "source": [
    "alloy = Model(GLPK.Optimizer)\n",
    "@variable(alloy, material[1:m] >= 0)\n",
    "@objective(alloy, Min, dot(RAW.Cost, material))\n",
    "\n",
    "# minimum and maximum needed of each elements\n",
    "@constraint(alloy, carbon, GRADES[1,2] * ORDER / 100 <= material' * RAW.Carbon / 100 <= GRADES[1,3] * ORDER / 100)\n",
    "@constraint(alloy, cooper, GRADES[2,2] * ORDER / 100 <= material' * RAW.Cooper / 100 <= GRADES[2,3] * ORDER / 100)\n",
    "@constraint(alloy, manganese, GRADES[3,2] * ORDER / 100 <= material' * RAW.Manganese / 100 <= GRADES[3,3] * ORDER / 100)\n",
    "\n",
    "# availability\n",
    "@constraint(alloy, material .<= RAW.Availability)\n",
    "\n",
    "# meet demand\n",
    "@constraint(alloy, sum(material) >= ORDER);"
   ]
  },
  {
   "cell_type": "code",
   "execution_count": 6,
   "metadata": {},
   "outputs": [
    {
     "name": "stdout",
     "output_type": "stream",
     "text": [
      "Min 200 material[1] + 250 material[2] + 150 material[3] + 220 material[4] + 240 material[5] + 200 material[6] + 165 material[7]\n",
      "Subject to\n",
      " material[1] + material[2] + material[3] + material[4] + material[5] + material[6] + material[7] >= 500.0\n",
      " material[1] <= 400.0\n",
      " material[2] <= 300.0\n",
      " material[3] <= 600.0\n",
      " material[4] <= 500.0\n",
      " material[5] <= 200.0\n",
      " material[6] <= 300.0\n",
      " material[7] <= 250.0\n",
      " carbon : 0.025 material[1] + 0.03 material[2] in [10.0, 15.0]\n",
      " cooper : 0.003 material[3] + 0.9 material[4] + 0.96 material[5] + 0.004 material[6] + 0.006 material[7] in [2.0, 3.0]\n",
      " manganese : 0.013000000000000001 material[1] + 0.008 material[2] + 0.04 material[5] + 0.012 material[6] in [6.0, 8.25]\n",
      " material[1] >= 0.0\n",
      " material[2] >= 0.0\n",
      " material[3] >= 0.0\n",
      " material[4] >= 0.0\n",
      " material[5] >= 0.0\n",
      " material[6] >= 0.0\n",
      " material[7] >= 0.0\n",
      "\n"
     ]
    }
   ],
   "source": [
    "println(alloy)"
   ]
  },
  {
   "cell_type": "code",
   "execution_count": 7,
   "metadata": {},
   "outputs": [],
   "source": [
    "optimize!(alloy)"
   ]
  },
  {
   "cell_type": "code",
   "execution_count": 8,
   "metadata": {},
   "outputs": [
    {
     "data": {
      "text/plain": [
       "98121.63579168124"
      ]
     },
     "execution_count": 8,
     "metadata": {},
     "output_type": "execute_result"
    }
   ],
   "source": [
    "JuMP.getobjectivevalue(alloy)"
   ]
  },
  {
   "cell_type": "code",
   "execution_count": 9,
   "metadata": {},
   "outputs": [
    {
     "data": {
      "text/html": [
       "<table class=\"data-frame\"><thead><tr><th></th><th>material</th><th>Usage</th></tr><tr><th></th><th>String</th><th>Float64</th></tr></thead><tbody><p>7 rows × 2 columns</p><tr><th>1</th><td>Iron alloy 1</td><td>400.0</td></tr><tr><th>2</th><td>Iron alloy 2</td><td>0.0</td></tr><tr><th>3</th><td>Iron alloy 3</td><td>39.7763</td></tr><tr><th>4</th><td>Cooper alloy 1</td><td>0.0</td></tr><tr><th>5</th><td>Cooper alloy 2</td><td>2.76127</td></tr><tr><th>6</th><td>Aluminium alloy 1</td><td>57.4624</td></tr><tr><th>7</th><td>Aluminium alloy 2</td><td>0.0</td></tr></tbody></table>"
      ],
      "text/latex": [
       "\\begin{tabular}{r|cc}\n",
       "\t& material & Usage\\\\\n",
       "\t\\hline\n",
       "\t& String & Float64\\\\\n",
       "\t\\hline\n",
       "\t1 & Iron alloy 1 & 400.0 \\\\\n",
       "\t2 & Iron alloy 2 & 0.0 \\\\\n",
       "\t3 & Iron alloy 3 & 39.7763 \\\\\n",
       "\t4 & Cooper alloy 1 & 0.0 \\\\\n",
       "\t5 & Cooper alloy 2 & 2.76127 \\\\\n",
       "\t6 & Aluminium alloy 1 & 57.4624 \\\\\n",
       "\t7 & Aluminium alloy 2 & 0.0 \\\\\n",
       "\\end{tabular}\n"
      ],
      "text/plain": [
       "7×2 DataFrame\n",
       "│ Row │ material          │ Usage   │\n",
       "│     │ \u001b[90mString\u001b[39m            │ \u001b[90mFloat64\u001b[39m │\n",
       "├─────┼───────────────────┼─────────┤\n",
       "│ 1   │ Iron alloy 1      │ 400.0   │\n",
       "│ 2   │ Iron alloy 2      │ 0.0     │\n",
       "│ 3   │ Iron alloy 3      │ 39.7763 │\n",
       "│ 4   │ Cooper alloy 1    │ 0.0     │\n",
       "│ 5   │ Cooper alloy 2    │ 2.76127 │\n",
       "│ 6   │ Aluminium alloy 1 │ 57.4624 │\n",
       "│ 7   │ Aluminium alloy 2 │ 0.0     │"
      ]
     },
     "execution_count": 9,
     "metadata": {},
     "output_type": "execute_result"
    }
   ],
   "source": [
    "DataFrame(material = RAW.material, Usage = value.(material))"
   ]
  },
  {
   "cell_type": "code",
   "execution_count": 10,
   "metadata": {},
   "outputs": [
    {
     "data": {
      "text/plain": [
       "2.0"
      ]
     },
     "execution_count": 10,
     "metadata": {},
     "output_type": "execute_result"
    }
   ],
   "source": [
    "# percentage of carbon\n",
    "round(getvalue(carbon) / sum(value.(material)) * 100, digits = 2)"
   ]
  },
  {
   "cell_type": "code",
   "execution_count": 11,
   "metadata": {},
   "outputs": [
    {
     "data": {
      "text/plain": [
       "0.6"
      ]
     },
     "execution_count": 11,
     "metadata": {},
     "output_type": "execute_result"
    }
   ],
   "source": [
    "# percentage of cooper\n",
    "round(getvalue(cooper) / sum(value.(material)) * 100, digits = 2)"
   ]
  },
  {
   "cell_type": "code",
   "execution_count": 12,
   "metadata": {},
   "outputs": [
    {
     "data": {
      "text/plain": [
       "1.2"
      ]
     },
     "execution_count": 12,
     "metadata": {},
     "output_type": "execute_result"
    }
   ],
   "source": [
    "# percentage of manganese\n",
    "round(getvalue(manganese) / sum(value.(material)) * 100, digits = 2)"
   ]
  }
 ],
 "metadata": {
  "kernelspec": {
   "display_name": "Julia 1.5.0",
   "language": "julia",
   "name": "julia-1.5"
  },
  "language_info": {
   "file_extension": ".jl",
   "mimetype": "application/julia",
   "name": "julia",
   "version": "1.5.0"
  }
 },
 "nbformat": 4,
 "nbformat_minor": 4
}
