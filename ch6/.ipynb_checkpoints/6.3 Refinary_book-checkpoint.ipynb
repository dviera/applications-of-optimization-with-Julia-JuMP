{
 "cells": [
  {
   "cell_type": "code",
   "execution_count": 1,
   "metadata": {},
   "outputs": [
    {
     "name": "stderr",
     "output_type": "stream",
     "text": [
      "┌ Info: Xpress: Found license file C:\\Programs\\xpressmp\\bin\\xpauth.xpr\n",
      "└ @ Xpress C:\\Users\\User\\.julia\\packages\\Xpress\\wBzje\\src\\license.jl:42\n",
      "┌ Info: Xpress: Development license detected.\n",
      "└ @ Xpress C:\\Users\\User\\.julia\\packages\\Xpress\\wBzje\\src\\license.jl:84\n"
     ]
    }
   ],
   "source": [
    "using JuMP\n",
    "using Xpress"
   ]
  },
  {
   "cell_type": "code",
   "execution_count": 175,
   "metadata": {},
   "outputs": [
    {
     "data": {
      "text/plain": [
       "Dict{String,Int64} with 3 entries:\n",
       "  \"petcrknaphtha\" => 74\n",
       "  \"reformate\"     => 100\n",
       "  \"petbutane\"     => 120"
      ]
     },
     "execution_count": 175,
     "metadata": {},
     "output_type": "execute_result"
    }
   ],
   "source": [
    "AVAIL = Dict(\"crude2\" => 500000, \"crude1\" => 250000)\n",
    "\n",
    "DEM = Dict(\n",
    "  \"butane\"  => 20000,\n",
    "  \"heating\" => 42000,\n",
    "  \"petrol\"  => 40000,\n",
    "  \"diesel\"  => 30000,\n",
    "    )\n",
    "\n",
    "DIST = Dict(\n",
    "    (\"crude1\", \"gasoil\")     => 0.4, \n",
    "    (\"crude1\", \"residue\")    => 0.15,\n",
    "    (\"crude1\", \"naphtha\")    => 0.15,\n",
    "    (\"crude2\", \"gasoil\")     => 0.35,\n",
    "    (\"crude2\", \"residue\")    => 0.1,\n",
    "    (\"crude1\", \"distbutane\") => 0.03,\n",
    "    (\"crude2\", \"naphtha\")    => 0.2,\n",
    "    (\"crude2\", \"distbutane\") => 0.05\n",
    "    )\n",
    "\n",
    "REF = Dict(\n",
    "    \"reformate\" => 0.85,\n",
    "    \"refbutane\" => 0.15\n",
    "    )\n",
    "\n",
    "CRACK = Dict(\n",
    "    \"crknaphtha\" => 0.4,\n",
    "    \"crkgasoil\"  => 0.35\n",
    "    )\n",
    "\n",
    "OCT = Dict(\n",
    "    \"petcrknaphtha\" => 74,\n",
    "    \"reformate\"     => 100,\n",
    "    \"petbutane\"     => 120\n",
    "    )\n",
    "\n",
    "VAP = Dict(\"petbutane\" =>  60, \"reformate\" => 2.6, \"petcrknaphtha\" => 4.1)\n",
    "VOL = Dict(\"petbutane\" => 105, \"reformate\" => 3, \"petcrknaphtha\" => 12)\n",
    "\n",
    "SULF = [(dslgasoil) 0.03 (dslcrknaphtha) 0.12 (dslcrkgasoil) 0.76]\n",
    "\n",
    "COST = [(crude1) 2.1 (crude2) 2.1\n",
    "       (distbutane) 0 (naphtha) 4.18 (residue) 0.6 (gasoil) 2.04 ]"
   ]
  },
  {
   "cell_type": "code",
   "execution_count": 165,
   "metadata": {},
   "outputs": [],
   "source": [
    "CRUDES = collect(keys(AVAIL))\n",
    "FINAL = collect(keys(DEM))\n",
    "IDIST = unique([x[2] for x in collect(keys(DIST))])\n",
    "IREF = collect(keys(REF))\n",
    "ICRACK = collect(keys(CRACK))\n",
    "IPETROL = collect(keys(OCT))\n",
    "IDIESEL = collect(keys())\n",
    "IHO = [\"hogasoil\", \"hocrknaphtha\", \"hocrkgasoil\"]"
   ]
  },
  {
   "cell_type": "code",
   "execution_count": 94,
   "metadata": {},
   "outputs": [],
   "source": [
    "ALLPRODS = [FINAL; IDIST; IREF; ICRACK; IPETROL; IHO; IDIESEL];"
   ]
  },
  {
   "cell_type": "code",
   "execution_count": 161,
   "metadata": {},
   "outputs": [
    {
     "ename": "LoadError",
     "evalue": "KeyError: key 1 not found",
     "output_type": "error",
     "traceback": [
      "KeyError: key 1 not found",
      "",
      "Stacktrace:",
      " [1] getindex(::Dict{String,Real}, ::Int64) at .\\dict.jl:467",
      " [2] macro expansion at C:\\Users\\User\\.julia\\packages\\MutableArithmetics\\NuiNA\\src\\rewrite.jl:227 [inlined]",
      " [3] top-level scope at C:\\Users\\User\\.julia\\packages\\JuMP\\YXK4e\\src\\macros.jl:800",
      " [4] include_string(::Function, ::Module, ::String, ::String) at .\\loading.jl:1091"
     ]
    }
   ],
   "source": [
    "model = Model(Xpress.Optimizer)\n",
    "@variable(model, crude1 >= 0)\n",
    "@variable(model, crude2 >= 0)\n",
    "\n",
    "@variable(model, x[1:length(ALLPRODS)] >= 0)\n",
    "set_name.(x, ALLPRODS);\n",
    "\n",
    "# objective\n",
    "@objective(model, Min, sum(CRUDES[i] * COST[i] for i in COST))"
   ]
  },
  {
   "cell_type": "code",
   "execution_count": 164,
   "metadata": {},
   "outputs": [
    {
     "data": {
      "text/plain": [
       "2-element Array{String,1}:\n",
       " \"crude2\"\n",
       " \"crude1\""
      ]
     },
     "execution_count": 164,
     "metadata": {},
     "output_type": "execute_result"
    }
   ],
   "source": [
    "CRUDES"
   ]
  },
  {
   "cell_type": "code",
   "execution_count": 128,
   "metadata": {},
   "outputs": [
    {
     "data": {
      "text/latex": [
       "$$ \\begin{alignat*}{1}\\text{feasibility}\\\\\n",
       "\\text{Subject to} \\quad & crude1 \\geq 0.0\\\\\n",
       " & crude2 \\geq 0.0\\\\\n",
       " & butane \\geq 0.0\\\\\n",
       " & heating \\geq 0.0\\\\\n",
       " & petrol \\geq 0.0\\\\\n",
       " & diesel \\geq 0.0\\\\\n",
       " & gasoil \\geq 0.0\\\\\n",
       " & residue \\geq 0.0\\\\\n",
       " & naphtha \\geq 0.0\\\\\n",
       " & distbutane \\geq 0.0\\\\\n",
       " & reformate \\geq 0.0\\\\\n",
       " & refbutane \\geq 0.0\\\\\n",
       " & crknaphtha \\geq 0.0\\\\\n",
       " & crkgasoil \\geq 0.0\\\\\n",
       " & petcrknaphtha \\geq 0.0\\\\\n",
       " & reformate \\geq 0.0\\\\\n",
       " & petbutane \\geq 0.0\\\\\n",
       " & hogasoil \\geq 0.0\\\\\n",
       " & hocrknaphtha \\geq 0.0\\\\\n",
       " & hocrkgasoil \\geq 0.0\\\\\n",
       " & dslcrknaphtha \\geq 0.0\\\\\n",
       " & dslgasoil \\geq 0.0\\\\\n",
       " & dslcrkgasoil \\geq 0.0\\\\\n",
       "\\end{alignat*}\n",
       " $$"
      ],
      "text/plain": [
       "A JuMP Model\n",
       "Feasibility problem with:\n",
       "Variables: 23\n",
       "`VariableRef`-in-`MathOptInterface.GreaterThan{Float64}`: 23 constraints\n",
       "Model mode: AUTOMATIC\n",
       "CachingOptimizer state: EMPTY_OPTIMIZER\n",
       "Solver name: Xpress\n",
       "Names registered in the model: crude1, crude2, x"
      ]
     },
     "execution_count": 128,
     "metadata": {},
     "output_type": "execute_result"
    }
   ],
   "source": [
    "model"
   ]
  },
  {
   "cell_type": "code",
   "execution_count": null,
   "metadata": {},
   "outputs": [],
   "source": []
  }
 ],
 "metadata": {
  "kernelspec": {
   "display_name": "Julia 1.5.0",
   "language": "julia",
   "name": "julia-1.5"
  },
  "language_info": {
   "file_extension": ".jl",
   "mimetype": "application/julia",
   "name": "julia",
   "version": "1.5.0"
  }
 },
 "nbformat": 4,
 "nbformat_minor": 4
}
