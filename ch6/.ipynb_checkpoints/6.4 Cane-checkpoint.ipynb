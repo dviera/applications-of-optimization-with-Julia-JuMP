{
 "cells": [
  {
   "cell_type": "code",
   "execution_count": 1,
   "metadata": {},
   "outputs": [],
   "source": [
    "using JuMP\n",
    "using Gurobi\n",
    "using DataFrames"
   ]
  },
  {
   "cell_type": "markdown",
   "metadata": {},
   "source": [
    "### Option 1\n",
    "It uses disjunctive constraints but it takes about 5 minutes with Gurobi."
   ]
  },
  {
   "cell_type": "code",
   "execution_count": 2,
   "metadata": {},
   "outputs": [],
   "source": [
    "LOSS = DataFrame(lot = Int.(collect(range(1, 11, length = 11))), kg = [43, 26, 37, 28, 13, 54, 62, 49, 19, 28, 30])\n",
    "LOSS_DIC = Dict(eachrow(LOSS))\n",
    "\n",
    "LIFE_SPAN = DataFrame(lot = Int.(collect(range(1, 11, length = 11))), life = [8, 8, 2, 8, 4, 8, 8, 8, 6, 8, 8])\n",
    "LIFE_SPAN_DIC = Dict(eachrow(LIFE_SPAN))\n",
    "\n",
    "N_LOT = 11\n",
    "LINES = 3\n",
    "PROCESSING_TIME = 2;\n",
    "M = N_LOT * PROCESSING_TIME;"
   ]
  },
  {
   "cell_type": "code",
   "execution_count": 3,
   "metadata": {},
   "outputs": [],
   "source": [
    "model = Model(Gurobi.Optimizer)\n",
    "\n",
    "# start time\n",
    "@variable(model, s[1:N_LOT] >= 0)\n",
    "\n",
    "# 1 if LOT i is processed by LINE j\n",
    "@variable(model, isProcess[1:N_LOT, 1:LINES], Bin)\n",
    "\n",
    "# 1 if LOT i after LOT j\n",
    "@variable(model, after[1:N_LOT, 1:N_LOT], Bin)\n",
    "for j in 1:N_LOT\n",
    "    for k in 1:N_LOT\n",
    "        if k < j\n",
    "            delete(model, after[j, k])\n",
    "        end\n",
    "    end\n",
    "end\n",
    "\n",
    "\n",
    "# a LOT can only be processed by one LINE\n",
    "for i in 1:N_LOT\n",
    "    @constraint(model, sum(isProcess[i, j] for j in 1:LINES) == 1)\n",
    "end\n",
    "\n",
    "# no overlapping processes of the LOTs per LINE\n",
    "for i in 1:LINES\n",
    "    for j in 1:N_LOT\n",
    "        for k in 1:N_LOT\n",
    "            if k > j\n",
    "                # LOT j is processed after LOT k is finished processing\n",
    "                @constraint( model, s[j] >= s[k] + PROCESSING_TIME - M * (1 - after[j, k]) - M * (1 - isProcess[j, i]) - M * (1 - isProcess[k, i]) )\n",
    "                \n",
    "                # or LOT k is processed after LOT j is finished processing\n",
    "                @constraint( model, s[k] >= s[j] + PROCESSING_TIME - M * after[j, k] - M * (1 - isProcess[j, i]) - M * (1 - isProcess[k, i]) )\n",
    "            end\n",
    "        end\n",
    "    end\n",
    "end\n",
    "\n",
    "# finish time before life span\n",
    "for j in 1:N_LOT\n",
    "    @constraint(model, s[j] + PROCESSING_TIME <= LIFE_SPAN_DIC[j])\n",
    "end\n",
    "\n",
    "@objective(model, Min, sum((s[j] + PROCESSING_TIME) * LOSS_DIC[j] for j in 1:N_LOT));"
   ]
  },
  {
   "cell_type": "code",
   "execution_count": 4,
   "metadata": {},
   "outputs": [
    {
     "name": "stdout",
     "output_type": "stream",
     "text": [
      "Gurobi Optimizer version 9.0.3 build v9.0.3rc0 (win64)\n",
      "Optimize a model with 352 rows, 110 columns and 1694 nonzeros\n",
      "Model fingerprint: 0x2329cc5b\n",
      "Variable types: 11 continuous, 99 integer (99 binary)\n",
      "Coefficient statistics:\n",
      "  Matrix range     [1e+00, 2e+01]\n",
      "  Objective range  [1e+01, 6e+01]\n",
      "  Bounds range     [0e+00, 0e+00]\n",
      "  RHS range        [1e+00, 6e+01]\n",
      "Found heuristic solution: objective 2026.0000000\n",
      "Presolve removed 11 rows and 12 columns\n",
      "Presolve time: 0.01s\n",
      "Presolved: 341 rows, 98 columns, 1623 nonzeros\n",
      "Variable types: 10 continuous, 88 integer (88 binary)\n",
      "\n",
      "Root relaxation: objective 7.780000e+02, 68 iterations, 0.00 seconds\n",
      "\n",
      "    Nodes    |    Current Node    |     Objective Bounds      |     Work\n",
      " Expl Unexpl |  Obj  Depth IntInf | Incumbent    BestBd   Gap | It/Node Time\n",
      "\n",
      "     0     0  778.00000    0   15 2026.00000  778.00000  61.6%     -    0s\n",
      "H    0     0                    1820.0000000  778.00000  57.3%     -    0s\n",
      "H    0     0                    1808.0000000  778.00000  57.0%     -    0s\n",
      "     0     0  778.00000    0   26 1808.00000  778.00000  57.0%     -    0s\n",
      "     0     0  778.00000    0   18 1808.00000  778.00000  57.0%     -    0s\n",
      "     0     0  778.00000    0   16 1808.00000  778.00000  57.0%     -    0s\n",
      "     0     0  778.00000    0   19 1808.00000  778.00000  57.0%     -    0s\n",
      "     0     0  778.00000    0   17 1808.00000  778.00000  57.0%     -    0s\n",
      "     0     0  778.00000    0   30 1808.00000  778.00000  57.0%     -    0s\n",
      "     0     0  778.00000    0   23 1808.00000  778.00000  57.0%     -    0s\n",
      "     0     0  778.00000    0   22 1808.00000  778.00000  57.0%     -    0s\n",
      "H    0     0                    1790.0000000  778.00000  56.5%     -    0s\n",
      "     0     2  778.00000    0   14 1790.00000  778.00000  56.5%     -    0s\n",
      "H   87    84                    1642.0000000  778.00000  52.6%   4.7    0s\n",
      "H 1283   703                    1630.0000000  838.00000  48.6%   3.6    0s\n",
      "H 1769   793                    1620.0000000  864.00000  46.7%   3.4    0s\n",
      " 60655 13505 1204.66667   54    6 1620.00000  976.00000  39.8%   2.5    5s\n",
      " 163315 51372 1312.66667   52   10 1620.00000 1054.66667  34.9%   2.3   10s\n",
      " 255652 79501     cutoff   58      1620.00000 1092.00000  32.6%   2.3   15s\n",
      " 354545 106709 1129.71429   48   15 1620.00000 1121.27273  30.8%   2.2   20s\n",
      " 448177 130845 1204.00000   53   10 1620.00000 1144.00000  29.4%   2.2   25s\n",
      " 539141 150148 1280.00000   50    7 1620.00000 1160.00000  28.4%   2.2   30s\n",
      " 613023 164519 1440.00000   52    4 1620.00000 1174.00000  27.5%   2.2   35s\n",
      " 699082 180547 1592.00000   57    1 1620.00000 1186.00000  26.8%   2.2   40s\n",
      " 773886 193248 1552.00000   57    3 1620.00000 1196.00000  26.2%   2.2   45s\n",
      " 849979 206007 1208.00000   52    7 1620.00000 1208.00000  25.4%   2.2   50s\n",
      " 923090 217169 1216.00000   46    6 1620.00000 1216.00000  24.9%   2.1   55s\n",
      " 1005211 229436 1389.45455   54    5 1620.00000 1225.45455  24.4%   2.1   60s\n",
      " 1079947 239131 1346.00000   55    4 1620.00000 1234.00000  23.8%   2.1   65s\n",
      " 1161464 250220     cutoff   63      1620.00000 1242.00000  23.3%   2.1   70s\n",
      " 1247382 261755 1412.00000   58    3 1620.00000 1248.00000  23.0%   2.1   75s\n",
      " 1328088 271119 1558.00000   54    3 1620.00000 1256.00000  22.5%   2.1   80s\n",
      " 1413192 278633 1568.00000   56    5 1620.00000 1264.00000  22.0%   2.1   85s\n",
      " 1508759 287721 infeasible   57      1620.00000 1272.00000  21.5%   2.1   90s\n",
      " 1606150 295697 1280.00000   50    8 1620.00000 1280.00000  21.0%   2.1   95s\n",
      " 1703075 304426 1436.00000   56    3 1620.00000 1286.00000  20.6%   2.1  100s\n",
      " 1804068 310915 1514.00000   55    2 1620.00000 1294.00000  20.1%   2.1  105s\n",
      " 1902393 316772     cutoff   59      1620.00000 1302.00000  19.6%   2.1  110s\n",
      " 1986131 322004     cutoff   61      1620.00000 1306.00000  19.4%   2.1  115s\n",
      " 2053115 325870 1450.00000   56    3 1620.00000 1312.00000  19.0%   2.1  120s\n",
      " 2146762 329903 1478.00000   55    4 1620.00000 1318.00000  18.6%   2.1  125s\n",
      " 2238100 332877     cutoff   64      1620.00000 1326.00000  18.1%   2.0  130s\n",
      " 2334854 335950 1516.00000   61    5 1620.00000 1332.00000  17.8%   2.0  135s\n",
      " 2426827 338921 infeasible   55      1620.00000 1336.66667  17.5%   2.0  140s\n",
      " 2514997 341612 1484.00000   54    3 1620.00000 1342.00000  17.2%   2.0  145s\n",
      " 2585972 343048     cutoff   56      1620.00000 1346.00000  16.9%   2.0  150s\n",
      " 2659078 344278 1518.00000   59    7 1620.00000 1350.00000  16.7%   2.0  155s\n",
      " 2742947 345459     cutoff   56      1620.00000 1356.00000  16.3%   2.0  160s\n",
      " 2832751 345623     cutoff   53      1620.00000 1360.66667  16.0%   2.0  165s\n",
      " 2917796 345364 infeasible   61      1620.00000 1366.00000  15.7%   2.0  170s\n",
      " 3007874 345010     cutoff   55      1620.00000 1372.00000  15.3%   2.0  175s\n",
      " 3099388 342921 infeasible   55      1620.00000 1378.00000  14.9%   2.0  180s\n",
      " 3187203 340835 infeasible   57      1620.00000 1384.00000  14.6%   2.0  185s\n",
      " 3253613 338428 1546.00000   57    1 1620.00000 1388.00000  14.3%   2.0  190s\n",
      " 3324104 335813 infeasible   58      1620.00000 1392.00000  14.1%   2.0  195s\n",
      " 3396415 332747 1582.00000   58    3 1620.00000 1396.00000  13.8%   2.0  200s\n",
      " 3473425 328795 infeasible   59      1620.00000 1400.00000  13.6%   2.0  205s\n",
      " 3547782 324892     cutoff   61      1620.00000 1404.66667  13.3%   2.0  210s\n",
      " 3622707 320331     cutoff   54      1620.00000 1410.00000  13.0%   2.0  215s\n",
      " 3698793 314386 1570.00000   55    1 1620.00000 1414.00000  12.7%   2.0  220s\n",
      " 3775288 308971 infeasible   59      1620.00000 1420.00000  12.3%   2.0  225s\n",
      " 3852573 302006 infeasible   60      1620.00000 1426.00000  12.0%   2.0  230s\n",
      " 3931920 293758 1586.66667   56    2 1620.00000 1432.00000  11.6%   2.0  235s\n",
      " 4014944 284954 infeasible   57      1620.00000 1438.00000  11.2%   2.0  240s\n",
      " 4099010 275774 1444.00000   58    3 1620.00000 1444.00000  10.9%   2.0  245s\n",
      " 4206315 266449     cutoff   57      1620.00000 1448.00000  10.6%   2.0  250s\n",
      " 4309759 255755 infeasible   60      1620.00000 1456.00000  10.1%   2.0  255s\n",
      " 4412289 243341 infeasible   55      1620.00000 1462.00000  9.75%   2.0  260s\n",
      " 4513474 229375 infeasible   57      1620.00000 1470.00000  9.26%   2.0  265s\n",
      " 4617542 215439 infeasible   52      1620.00000 1478.00000  8.77%   2.0  270s\n",
      " 4722013 198810     cutoff   55      1620.00000 1486.00000  8.27%   1.9  275s\n",
      " 4824075 178454 1604.00000   54    1 1620.00000 1496.00000  7.65%   1.9  280s\n",
      " 4922374 158892 infeasible   62      1620.00000 1506.00000  7.04%   1.9  285s\n",
      " 4990681 143908 infeasible   57      1620.00000 1514.00000  6.54%   1.9  290s\n",
      " 5058016 125404 infeasible   58      1620.00000 1524.00000  5.93%   1.9  295s\n",
      " 5162225 95701     cutoff   59      1620.00000 1540.00000  4.94%   1.9  300s\n",
      " 5262035 61670 infeasible   59      1620.00000 1562.00000  3.58%   1.9  305s\n",
      " 5368388  9629 infeasible   60      1620.00000 1608.00000  0.74%   1.9  310s\n",
      "\n",
      "Cutting planes:\n",
      "  Gomory: 2\n",
      "  MIR: 2\n",
      "  Flow cover: 17\n",
      "\n",
      "Explored 5387519 nodes (10096441 simplex iterations) in 310.74 seconds\n",
      "Thread count was 4 (of 4 available processors)\n",
      "\n",
      "Solution count 8: 1620 1630 1642 ... 2026\n",
      "\n",
      "Optimal solution found (tolerance 1.00e-04)\n",
      "Best objective 1.620000000000e+03, best bound 1.620000000000e+03, gap 0.0000%\n"
     ]
    }
   ],
   "source": [
    "optimize!(model)"
   ]
  },
  {
   "cell_type": "code",
   "execution_count": 5,
   "metadata": {},
   "outputs": [
    {
     "data": {
      "text/plain": [
       "OPTIMAL::TerminationStatusCode = 1"
      ]
     },
     "execution_count": 5,
     "metadata": {},
     "output_type": "execute_result"
    }
   ],
   "source": [
    "termination_status(model)"
   ]
  },
  {
   "cell_type": "code",
   "execution_count": 6,
   "metadata": {},
   "outputs": [
    {
     "data": {
      "text/plain": [
       "1×11 LinearAlgebra.Adjoint{Float64,Array{Float64,1}}:\n",
       " 2.0  6.0  0.0  6.0  2.0  0.0  0.0  2.0  4.0  4.0  4.0"
      ]
     },
     "execution_count": 6,
     "metadata": {},
     "output_type": "execute_result"
    }
   ],
   "source": [
    "value.(s)'"
   ]
  },
  {
   "cell_type": "code",
   "execution_count": 7,
   "metadata": {},
   "outputs": [
    {
     "data": {
      "text/plain": [
       "3×11 Array{Any,2}:\n",
       " 1.0   -    -    -    -    -   1.0   -    -   1.0   -\n",
       "  -   1.0   -    -    -   1.0   -   1.0  1.0   -    -\n",
       "  -    -   1.0  1.0  1.0   -    -    -    -    -   1.0"
      ]
     },
     "execution_count": 7,
     "metadata": {},
     "output_type": "execute_result"
    }
   ],
   "source": [
    "replace(value.(isProcess)', -0.0 => -, 0.0 => -, 0.0 => -)"
   ]
  },
  {
   "cell_type": "code",
   "execution_count": 8,
   "metadata": {},
   "outputs": [
    {
     "data": {
      "text/plain": [
       "1620.0"
      ]
     },
     "execution_count": 8,
     "metadata": {},
     "output_type": "execute_result"
    }
   ],
   "source": [
    "getobjectivevalue(model)"
   ]
  },
  {
   "cell_type": "markdown",
   "metadata": {},
   "source": [
    "### Option 2\n",
    "It uses the sequence-position."
   ]
  },
  {
   "cell_type": "code",
   "execution_count": 9,
   "metadata": {},
   "outputs": [],
   "source": [
    "model2 = Model(Gurobi.Optimizer)\n",
    "\n",
    "# Maximum number of SLOTs per LINE\n",
    "N_SLOT = Int(ceil(N_LOT / LINES))\n",
    "\n",
    "# If LOT i assigned to time SLOT j\n",
    "@variable(model2, x[1:N_LOT, 1:N_SLOT], Bin)\n",
    "\n",
    "# One LOT per time SLOT\n",
    "for i in 1:N_LOT\n",
    "    @constraint(model2, sum(x[i,j] for j in 1:N_SLOT) == 1)\n",
    "end\n",
    "\n",
    "# At most the number of lines per time SLOT\n",
    "for j in 1:N_SLOT\n",
    "    @constraint(model2, sum(x[i,j] for i in 1:N_LOT) <= LINES)\n",
    "end\n",
    "\n",
    "# Process LOT before life span\n",
    "for i in 1:N_LOT\n",
    "    @constraint(model2, sum(x[i, j] * j for j in 1:N_SLOT) <= LIFE_SPAN_DIC[i] / PROCESSING_TIME)\n",
    "end\n",
    "\n",
    "# Objective\n",
    "@objective(model2, Min, sum(x[i,j] * j * PROCESSING_TIME * LOSS_DIC[i] for i in 1:N_LOT for j in 1:N_SLOT));"
   ]
  },
  {
   "cell_type": "code",
   "execution_count": 10,
   "metadata": {},
   "outputs": [
    {
     "name": "stdout",
     "output_type": "stream",
     "text": [
      "Gurobi Optimizer version 9.0.3 build v9.0.3rc0 (win64)\n",
      "Optimize a model with 26 rows, 44 columns and 132 nonzeros\n",
      "Model fingerprint: 0x5e560143\n",
      "Variable types: 0 continuous, 44 integer (44 binary)\n",
      "Coefficient statistics:\n",
      "  Matrix range     [1e+00, 4e+00]\n",
      "  Objective range  [3e+01, 5e+02]\n",
      "  Bounds range     [0e+00, 0e+00]\n",
      "  RHS range        [1e+00, 4e+00]\n",
      "Found heuristic solution: objective 1998.0000000\n",
      "Presolve removed 13 rows and 8 columns\n",
      "Presolve time: 0.00s\n",
      "Presolved: 13 rows, 36 columns, 72 nonzeros\n",
      "Variable types: 0 continuous, 36 integer (36 binary)\n",
      "\n",
      "Root relaxation: objective 1.620000e+03, 17 iterations, 0.00 seconds\n",
      "\n",
      "    Nodes    |    Current Node    |     Objective Bounds      |     Work\n",
      " Expl Unexpl |  Obj  Depth IntInf | Incumbent    BestBd   Gap | It/Node Time\n",
      "\n",
      "*    0     0               0    1620.0000000 1620.00000  0.00%     -    0s\n",
      "\n",
      "Explored 0 nodes (17 simplex iterations) in 0.00 seconds\n",
      "Thread count was 4 (of 4 available processors)\n",
      "\n",
      "Solution count 2: 1620 1998 \n",
      "\n",
      "Optimal solution found (tolerance 1.00e-04)\n",
      "Best objective 1.620000000000e+03, best bound 1.620000000000e+03, gap 0.0000%\n"
     ]
    }
   ],
   "source": [
    "optimize!(model2)"
   ]
  },
  {
   "cell_type": "code",
   "execution_count": 11,
   "metadata": {},
   "outputs": [
    {
     "data": {
      "text/plain": [
       "OPTIMAL::TerminationStatusCode = 1"
      ]
     },
     "execution_count": 11,
     "metadata": {},
     "output_type": "execute_result"
    }
   ],
   "source": [
    "termination_status(model2)"
   ]
  },
  {
   "cell_type": "code",
   "execution_count": 12,
   "metadata": {},
   "outputs": [
    {
     "data": {
      "text/plain": [
       "11×4 Array{Any,2}:\n",
       "  -   1.0   -    -\n",
       "  -    -    -   1.0\n",
       " 1.0   -    -    -\n",
       "  -    -   1.0   -\n",
       "  -   1.0   -    -\n",
       " 1.0   -    -    -\n",
       " 1.0   -    -    -\n",
       "  -   1.0   -    -\n",
       "  -    -   1.0   -\n",
       "  -    -    -   1.0\n",
       "  -    -   1.0   -"
      ]
     },
     "execution_count": 12,
     "metadata": {},
     "output_type": "execute_result"
    }
   ],
   "source": [
    "replace(value.(x), -0.0 => -, 0.0 => -)"
   ]
  },
  {
   "cell_type": "code",
   "execution_count": 13,
   "metadata": {},
   "outputs": [
    {
     "data": {
      "text/plain": [
       "OPTIMAL::TerminationStatusCode = 1"
      ]
     },
     "execution_count": 13,
     "metadata": {},
     "output_type": "execute_result"
    }
   ],
   "source": [
    "termination_status(model2)"
   ]
  },
  {
   "cell_type": "code",
   "execution_count": 14,
   "metadata": {},
   "outputs": [
    {
     "name": "stdout",
     "output_type": "stream",
     "text": [
      "Wagon 3 in time slot 1 in line 1: total loss 74\n",
      "Wagon 6 in time slot 1 in line 2: total loss 108\n",
      "Wagon 7 in time slot 1 in line 3: total loss 124\n",
      "Wagon 1 in time slot 2 in line 1: total loss 172\n",
      "Wagon 5 in time slot 2 in line 2: total loss 52\n",
      "Wagon 8 in time slot 2 in line 3: total loss 196\n",
      "Wagon 4 in time slot 3 in line 1: total loss 168\n",
      "Wagon 9 in time slot 3 in line 2: total loss 114\n",
      "Wagon 11 in time slot 3 in line 3: total loss 180\n",
      "Wagon 2 in time slot 4 in line 1: total loss 208\n",
      "Wagon 10 in time slot 4 in line 2: total loss 224\n",
      "--------------------------\n",
      "Total Loss: 1620.0\n"
     ]
    }
   ],
   "source": [
    "li = 1\n",
    "total_loss = 0\n",
    "for s in 1:N_SLOT\n",
    "    for w in 1:N_LOT\n",
    "        if value.(x[w, s]) == 1.0\n",
    "            println(\"Wagon $(w) in time slot $(s) in line $(li): total loss $(PROCESSING_TIME * s * LOSS_DIC[w])\")\n",
    "            total_loss += value.(x[w, s]) * s * PROCESSING_TIME * LOSS_DIC[w]\n",
    "            li += 1\n",
    "        end\n",
    "    end\n",
    "    li = 1\n",
    "end\n",
    "println(\"--------------------------\")\n",
    "println(\"Total Loss: \", total_loss)"
   ]
  }
 ],
 "metadata": {
  "kernelspec": {
   "display_name": "Julia 1.5.0",
   "language": "julia",
   "name": "julia-1.5"
  },
  "language_info": {
   "file_extension": ".jl",
   "mimetype": "application/julia",
   "name": "julia",
   "version": "1.5.0"
  }
 },
 "nbformat": 4,
 "nbformat_minor": 4
}
