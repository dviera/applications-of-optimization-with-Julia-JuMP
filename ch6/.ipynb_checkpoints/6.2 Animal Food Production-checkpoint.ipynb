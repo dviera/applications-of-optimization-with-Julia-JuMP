{
 "cells": [
  {
   "cell_type": "code",
   "execution_count": 1,
   "metadata": {},
   "outputs": [],
   "source": [
    "using JuMP\n",
    "using GLPK\n",
    "using DataFrames"
   ]
  },
  {
   "cell_type": "code",
   "execution_count": 2,
   "metadata": {},
   "outputs": [
    {
     "data": {
      "text/html": [
       "<table class=\"data-frame\"><thead><tr><th></th><th>RawMaterial</th><th>Proteins</th><th>Lipids</th><th>Fiber</th></tr><tr><th></th><th>String</th><th>Float64</th><th>Float64</th><th>Float64</th></tr></thead><tbody><p>3 rows × 4 columns</p><tr><th>1</th><td>Oat</td><td>13.6</td><td>7.1</td><td>7.0</td></tr><tr><th>2</th><td>Maize</td><td>4.1</td><td>2.4</td><td>3.7</td></tr><tr><th>3</th><td>Molasses</td><td>5.0</td><td>0.3</td><td>25.0</td></tr></tbody></table>"
      ],
      "text/latex": [
       "\\begin{tabular}{r|cccc}\n",
       "\t& RawMaterial & Proteins & Lipids & Fiber\\\\\n",
       "\t\\hline\n",
       "\t& String & Float64 & Float64 & Float64\\\\\n",
       "\t\\hline\n",
       "\t1 & Oat & 13.6 & 7.1 & 7.0 \\\\\n",
       "\t2 & Maize & 4.1 & 2.4 & 3.7 \\\\\n",
       "\t3 & Molasses & 5.0 & 0.3 & 25.0 \\\\\n",
       "\\end{tabular}\n"
      ],
      "text/plain": [
       "3×4 DataFrame\n",
       "│ Row │ RawMaterial │ Proteins │ Lipids  │ Fiber   │\n",
       "│     │ \u001b[90mString\u001b[39m      │ \u001b[90mFloat64\u001b[39m  │ \u001b[90mFloat64\u001b[39m │ \u001b[90mFloat64\u001b[39m │\n",
       "├─────┼─────────────┼──────────┼─────────┼─────────┤\n",
       "│ 1   │ Oat         │ 13.6     │ 7.1     │ 7.0     │\n",
       "│ 2   │ Maize       │ 4.1      │ 2.4     │ 3.7     │\n",
       "│ 3   │ Molasses    │ 5.0      │ 0.3     │ 25.0    │"
      ]
     },
     "execution_count": 2,
     "metadata": {},
     "output_type": "execute_result"
    }
   ],
   "source": [
    "CONTENT = DataFrame(\n",
    "    RawMaterial = [\"Oat\", \"Maize\", \"Molasses\"],\n",
    "    Proteins = [13.6, 4.1, 5],\n",
    "    Lipids = [7.1, 2.4, 0.3],\n",
    "    Fiber = [7, 3.7, 25]\n",
    ")"
   ]
  },
  {
   "cell_type": "code",
   "execution_count": 3,
   "metadata": {},
   "outputs": [
    {
     "data": {
      "text/html": [
       "<table class=\"data-frame\"><thead><tr><th></th><th>Content</th><th>Proteins</th><th>Lipids</th><th>Fiber</th></tr><tr><th></th><th>String</th><th>Float64</th><th>Int64</th><th>Int64</th></tr></thead><tbody><p>1 rows × 4 columns</p><tr><th>1</th><td>Required</td><td>9.5</td><td>2</td><td>6</td></tr></tbody></table>"
      ],
      "text/latex": [
       "\\begin{tabular}{r|cccc}\n",
       "\t& Content & Proteins & Lipids & Fiber\\\\\n",
       "\t\\hline\n",
       "\t& String & Float64 & Int64 & Int64\\\\\n",
       "\t\\hline\n",
       "\t1 & Required & 9.5 & 2 & 6 \\\\\n",
       "\\end{tabular}\n"
      ],
      "text/plain": [
       "1×4 DataFrame\n",
       "│ Row │ Content  │ Proteins │ Lipids │ Fiber │\n",
       "│     │ \u001b[90mString\u001b[39m   │ \u001b[90mFloat64\u001b[39m  │ \u001b[90mInt64\u001b[39m  │ \u001b[90mInt64\u001b[39m │\n",
       "├─────┼──────────┼──────────┼────────┼───────┤\n",
       "│ 1   │ Required │ 9.5      │ 2      │ 6     │"
      ]
     },
     "execution_count": 3,
     "metadata": {},
     "output_type": "execute_result"
    }
   ],
   "source": [
    "REQUIRED = DataFrame(\n",
    "    Content = [\"Required\"],\n",
    "    Proteins = [9.5],\n",
    "    Lipids = [2],\n",
    "    Fiber = [6]\n",
    ")"
   ]
  },
  {
   "cell_type": "code",
   "execution_count": 4,
   "metadata": {},
   "outputs": [
    {
     "data": {
      "text/html": [
       "<table class=\"data-frame\"><thead><tr><th></th><th>RawMaterial</th><th>Available</th><th>Cost</th></tr><tr><th></th><th>String</th><th>Int64</th><th>Float64</th></tr></thead><tbody><p>3 rows × 3 columns</p><tr><th>1</th><td>Oat</td><td>11900</td><td>0.13</td></tr><tr><th>2</th><td>Maize</td><td>23500</td><td>0.17</td></tr><tr><th>3</th><td>Molasses</td><td>750</td><td>0.12</td></tr></tbody></table>"
      ],
      "text/latex": [
       "\\begin{tabular}{r|ccc}\n",
       "\t& RawMaterial & Available & Cost\\\\\n",
       "\t\\hline\n",
       "\t& String & Int64 & Float64\\\\\n",
       "\t\\hline\n",
       "\t1 & Oat & 11900 & 0.13 \\\\\n",
       "\t2 & Maize & 23500 & 0.17 \\\\\n",
       "\t3 & Molasses & 750 & 0.12 \\\\\n",
       "\\end{tabular}\n"
      ],
      "text/plain": [
       "3×3 DataFrame\n",
       "│ Row │ RawMaterial │ Available │ Cost    │\n",
       "│     │ \u001b[90mString\u001b[39m      │ \u001b[90mInt64\u001b[39m     │ \u001b[90mFloat64\u001b[39m │\n",
       "├─────┼─────────────┼───────────┼─────────┤\n",
       "│ 1   │ Oat         │ 11900     │ 0.13    │\n",
       "│ 2   │ Maize       │ 23500     │ 0.17    │\n",
       "│ 3   │ Molasses    │ 750       │ 0.12    │"
      ]
     },
     "execution_count": 4,
     "metadata": {},
     "output_type": "execute_result"
    }
   ],
   "source": [
    "AVA_COST = DataFrame(\n",
    "    RawMaterial = [\"Oat\", \"Maize\", \"Molasses\"],\n",
    "    Available = [11900, 23500, 750],\n",
    "    Cost = [0.13, 0.17, 0.12]\n",
    ")"
   ]
  },
  {
   "cell_type": "code",
   "execution_count": 5,
   "metadata": {},
   "outputs": [
    {
     "data": {
      "text/html": [
       "<table class=\"data-frame\"><thead><tr><th></th><th>Process</th><th>Cost</th></tr><tr><th></th><th>String</th><th>Float64</th></tr></thead><tbody><p>4 rows × 2 columns</p><tr><th>1</th><td>Grinding</td><td>0.25</td></tr><tr><th>2</th><td>Blending</td><td>0.05</td></tr><tr><th>3</th><td>Granulating</td><td>0.42</td></tr><tr><th>4</th><td>Sieving</td><td>0.17</td></tr></tbody></table>"
      ],
      "text/latex": [
       "\\begin{tabular}{r|cc}\n",
       "\t& Process & Cost\\\\\n",
       "\t\\hline\n",
       "\t& String & Float64\\\\\n",
       "\t\\hline\n",
       "\t1 & Grinding & 0.25 \\\\\n",
       "\t2 & Blending & 0.05 \\\\\n",
       "\t3 & Granulating & 0.42 \\\\\n",
       "\t4 & Sieving & 0.17 \\\\\n",
       "\\end{tabular}\n"
      ],
      "text/plain": [
       "4×2 DataFrame\n",
       "│ Row │ Process     │ Cost    │\n",
       "│     │ \u001b[90mString\u001b[39m      │ \u001b[90mFloat64\u001b[39m │\n",
       "├─────┼─────────────┼─────────┤\n",
       "│ 1   │ Grinding    │ 0.25    │\n",
       "│ 2   │ Blending    │ 0.05    │\n",
       "│ 3   │ Granulating │ 0.42    │\n",
       "│ 4   │ Sieving     │ 0.17    │"
      ]
     },
     "execution_count": 5,
     "metadata": {},
     "output_type": "execute_result"
    }
   ],
   "source": [
    "PRO_COST = DataFrame(\n",
    "    Process = [\"Grinding\", \"Blending\", \"Granulating\", \"Sieving\"],\n",
    "    Cost = [0.25, 0.05, 0.42, 0.17]\n",
    ")"
   ]
  },
  {
   "cell_type": "code",
   "execution_count": 6,
   "metadata": {},
   "outputs": [
    {
     "data": {
      "text/plain": [
       "2-element Array{Int64,1}:\n",
       "  9000\n",
       " 12000"
      ]
     },
     "execution_count": 6,
     "metadata": {},
     "output_type": "execute_result"
    }
   ],
   "source": [
    "DAILY_DEMAND_GRAN = 9000 # granulate\n",
    "DAILY_DEMAND_POW = 12000 # powder\n",
    "DAILY_DEMAND = [DAILY_DEMAND_GRAN, DAILY_DEMAND_POW]"
   ]
  },
  {
   "cell_type": "code",
   "execution_count": 7,
   "metadata": {},
   "outputs": [
    {
     "name": "stdout",
     "output_type": "stream",
     "text": [
      "Min 0.85 x[1,1] + 0.89 x[2,1] + 0.59 x[3,1] + 0.6 x[1,2] + 0.64 x[2,2] + 0.33999999999999997 x[3,2]\n",
      "Subject to\n",
      " x[1,1] + x[2,1] + x[3,1] - granulate == 0.0\n",
      " x[1,2] + x[2,2] + x[3,2] - powder == 0.0\n",
      " 13.6 x[1,1] + 4.1 x[2,1] + 5 x[3,1] - 9.5 granulate >= 0.0\n",
      " 7.1 x[1,1] + 2.4 x[2,1] + 0.3 x[3,1] - 2 granulate >= 0.0\n",
      " 13.6 x[1,2] + 4.1 x[2,2] + 5 x[3,2] - 9.5 powder >= 0.0\n",
      " 7.1 x[1,2] + 2.4 x[2,2] + 0.3 x[3,2] - 2 powder >= 0.0\n",
      " x[1,1] + x[2,1] + x[3,1] >= 9000.0\n",
      " x[1,2] + x[2,2] + x[3,2] >= 12000.0\n",
      " 7 x[1,1] + 3.7 x[2,1] + 25 x[3,1] - 6 granulate <= 0.0\n",
      " 7 x[1,2] + 3.7 x[2,2] + 25 x[3,2] - 6 powder <= 0.0\n",
      " x[1,1] + x[1,2] <= 11900.0\n",
      " x[2,1] + x[2,2] <= 23500.0\n",
      " x[3,1] + x[3,2] <= 750.0\n",
      " x[1,1] >= 0.0\n",
      " x[2,1] >= 0.0\n",
      " x[3,1] >= 0.0\n",
      " x[1,2] >= 0.0\n",
      " x[2,2] >= 0.0\n",
      " x[3,2] >= 0.0\n",
      " granulate >= 0.0\n",
      " powder >= 0.0\n",
      "\n"
     ]
    }
   ],
   "source": [
    "M = 3 # raw materials\n",
    "N = 2 # products\n",
    "\n",
    "food = Model(GLPK.Optimizer)\n",
    "\n",
    "# x[i,j] :: how much to use of raw i for product j\n",
    "@variable(food, x[1:M, 1:N] >= 0)\n",
    "@variable(food, granulate >= 0)\n",
    "@variable(food, powder >= 0)\n",
    "\n",
    "@constraint(food, sum(x[:, 1]) == granulate)\n",
    "@constraint(food, sum(x[:, 2]) == powder)\n",
    "con = [granulate, powder]\n",
    "\n",
    "# Content\n",
    "for j in 1:N\n",
    "    @constraint(food, CONTENT.Proteins' * x[:,j] >= REQUIRED.Proteins[1] * con[j])\n",
    "    @constraint(food, CONTENT.Fiber' * x[:,j] <= REQUIRED.Fiber[1] * con[j])\n",
    "    @constraint(food, CONTENT.Lipids' * x[:,j] >= REQUIRED.Lipids[1] * con[j])\n",
    "end\n",
    "\n",
    "# Demand\n",
    "for j in 1:N\n",
    "    @constraint(food, sum(x[i, j] for i in 1:M) >= DAILY_DEMAND[j])\n",
    "end\n",
    "\n",
    "# Available\n",
    "for i in 1:M\n",
    "    @constraint(food, sum(x[i, j] for j in 1:N) <= AVA_COST.Available[i])\n",
    "end\n",
    "\n",
    "# cost raw material\n",
    "rawCost = 0\n",
    "for i in 1:N\n",
    "    rawCost += sum((x .* AVA_COST.Cost)[:, i])\n",
    "end\n",
    "\n",
    "# cost griding\n",
    "gridCost = sum(x[i, j] for i in 1:M-1 for j in 1:N) * PRO_COST.Cost[1]\n",
    "\n",
    "# cost blending\n",
    "blenCost = sum(x[i, j] for i in 1:M for j in 1:N) * PRO_COST.Cost[2]\n",
    "\n",
    "# Granulating\n",
    "granCost = sum(x[:, 1]) * PRO_COST.Cost[3]\n",
    "\n",
    "# Powder\n",
    "powCost = sum(x[:, 2]) * PRO_COST.Cost[4]\n",
    "\n",
    "@objective(food, Min, rawCost + gridCost + blenCost + granCost + powCost)\n",
    "\n",
    "println(food)"
   ]
  },
  {
   "cell_type": "code",
   "execution_count": 8,
   "metadata": {},
   "outputs": [],
   "source": [
    "optimize!(food)"
   ]
  },
  {
   "cell_type": "code",
   "execution_count": 9,
   "metadata": {},
   "outputs": [
    {
     "data": {
      "text/plain": [
       "15086.795064700573"
      ]
     },
     "execution_count": 9,
     "metadata": {},
     "output_type": "execute_result"
    }
   ],
   "source": [
    "JuMP.objective_value(food)"
   ]
  },
  {
   "cell_type": "code",
   "execution_count": 10,
   "metadata": {},
   "outputs": [
    {
     "data": {
      "text/plain": [
       "OPTIMAL::TerminationStatusCode = 1"
      ]
     },
     "execution_count": 10,
     "metadata": {},
     "output_type": "execute_result"
    }
   ],
   "source": [
    "JuMP.termination_status(food)"
   ]
  },
  {
   "cell_type": "code",
   "execution_count": 11,
   "metadata": {},
   "outputs": [
    {
     "data": {
      "text/plain": [
       "3×2 Array{Float64,2}:\n",
       " 5098.56   6798.07\n",
       " 3719.53   4959.37\n",
       "  181.914   242.552"
      ]
     },
     "execution_count": 11,
     "metadata": {},
     "output_type": "execute_result"
    }
   ],
   "source": [
    "value.(x)"
   ]
  },
  {
   "cell_type": "code",
   "execution_count": 12,
   "metadata": {},
   "outputs": [
    {
     "data": {
      "text/plain": [
       "9000.0"
      ]
     },
     "execution_count": 12,
     "metadata": {},
     "output_type": "execute_result"
    }
   ],
   "source": [
    "value.(granulate)"
   ]
  },
  {
   "cell_type": "code",
   "execution_count": 13,
   "metadata": {},
   "outputs": [
    {
     "data": {
      "text/plain": [
       "11999.999999999998"
      ]
     },
     "execution_count": 13,
     "metadata": {},
     "output_type": "execute_result"
    }
   ],
   "source": [
    "value.(powder)"
   ]
  },
  {
   "cell_type": "code",
   "execution_count": 14,
   "metadata": {},
   "outputs": [
    {
     "data": {
      "text/plain": [
       "3-element Array{Float64,1}:\n",
       " 9.500000000000002\n",
       " 5.020132410472465\n",
       " 6.0"
      ]
     },
     "execution_count": 14,
     "metadata": {},
     "output_type": "execute_result"
    }
   ],
   "source": [
    "con_gran = sum.(eachcol(CONTENT[:, 2:4] .* (value.(x[:, 1]) ./ value.(granulate))))"
   ]
  },
  {
   "cell_type": "code",
   "execution_count": 15,
   "metadata": {},
   "outputs": [
    {
     "data": {
      "text/plain": [
       "3-element Array{Float64,1}:\n",
       " 9.5\n",
       " 5.020132410472465\n",
       " 5.999999999999999"
      ]
     },
     "execution_count": 15,
     "metadata": {},
     "output_type": "execute_result"
    }
   ],
   "source": [
    "con_pow = sum.(eachcol(CONTENT[:, 2:4] .* (value.(x[:, 2]) ./ value.(powder))))"
   ]
  },
  {
   "cell_type": "code",
   "execution_count": 16,
   "metadata": {},
   "outputs": [
    {
     "data": {
      "text/html": [
       "<table class=\"data-frame\"><thead><tr><th></th><th>x1</th><th>x2</th><th>x3</th></tr><tr><th></th><th>Float64</th><th>Float64</th><th>Float64</th></tr></thead><tbody><p>2 rows × 3 columns</p><tr><th>1</th><td>5098.56</td><td>3719.53</td><td>181.914</td></tr><tr><th>2</th><td>6798.07</td><td>4959.37</td><td>242.552</td></tr></tbody></table>"
      ],
      "text/latex": [
       "\\begin{tabular}{r|ccc}\n",
       "\t& x1 & x2 & x3\\\\\n",
       "\t\\hline\n",
       "\t& Float64 & Float64 & Float64\\\\\n",
       "\t\\hline\n",
       "\t1 & 5098.56 & 3719.53 & 181.914 \\\\\n",
       "\t2 & 6798.07 & 4959.37 & 242.552 \\\\\n",
       "\\end{tabular}\n"
      ],
      "text/plain": [
       "2×3 DataFrame\n",
       "│ Row │ x1      │ x2      │ x3      │\n",
       "│     │ \u001b[90mFloat64\u001b[39m │ \u001b[90mFloat64\u001b[39m │ \u001b[90mFloat64\u001b[39m │\n",
       "├─────┼─────────┼─────────┼─────────┤\n",
       "│ 1   │ 5098.56 │ 3719.53 │ 181.914 │\n",
       "│ 2   │ 6798.07 │ 4959.37 │ 242.552 │"
      ]
     },
     "execution_count": 16,
     "metadata": {},
     "output_type": "execute_result"
    }
   ],
   "source": [
    "results = DataFrame(value.(x)')"
   ]
  },
  {
   "cell_type": "code",
   "execution_count": 17,
   "metadata": {},
   "outputs": [
    {
     "data": {
      "text/html": [
       "<table class=\"data-frame\"><thead><tr><th></th><th>Oat</th><th>Maize</th><th>Molasses</th></tr><tr><th></th><th>Float64</th><th>Float64</th><th>Float64</th></tr></thead><tbody><p>2 rows × 3 columns</p><tr><th>1</th><td>5098.56</td><td>3719.53</td><td>181.914</td></tr><tr><th>2</th><td>6798.07</td><td>4959.37</td><td>242.552</td></tr></tbody></table>"
      ],
      "text/latex": [
       "\\begin{tabular}{r|ccc}\n",
       "\t& Oat & Maize & Molasses\\\\\n",
       "\t\\hline\n",
       "\t& Float64 & Float64 & Float64\\\\\n",
       "\t\\hline\n",
       "\t1 & 5098.56 & 3719.53 & 181.914 \\\\\n",
       "\t2 & 6798.07 & 4959.37 & 242.552 \\\\\n",
       "\\end{tabular}\n"
      ],
      "text/plain": [
       "2×3 DataFrame\n",
       "│ Row │ Oat     │ Maize   │ Molasses │\n",
       "│     │ \u001b[90mFloat64\u001b[39m │ \u001b[90mFloat64\u001b[39m │ \u001b[90mFloat64\u001b[39m  │\n",
       "├─────┼─────────┼─────────┼──────────┤\n",
       "│ 1   │ 5098.56 │ 3719.53 │ 181.914  │\n",
       "│ 2   │ 6798.07 │ 4959.37 │ 242.552  │"
      ]
     },
     "execution_count": 17,
     "metadata": {},
     "output_type": "execute_result"
    }
   ],
   "source": [
    "names!(results, [:Oat, :Maize, :Molasses])"
   ]
  },
  {
   "cell_type": "code",
   "execution_count": 18,
   "metadata": {},
   "outputs": [
    {
     "data": {
      "text/html": [
       "<table class=\"data-frame\"><thead><tr><th></th><th>Food_type</th><th>Oat</th><th>Maize</th><th>Molasses</th></tr><tr><th></th><th>String</th><th>Float64</th><th>Float64</th><th>Float64</th></tr></thead><tbody><p>2 rows × 4 columns</p><tr><th>1</th><td>Granule</td><td>5098.56</td><td>3719.53</td><td>181.914</td></tr><tr><th>2</th><td>Powder</td><td>6798.07</td><td>4959.37</td><td>242.552</td></tr></tbody></table>"
      ],
      "text/latex": [
       "\\begin{tabular}{r|cccc}\n",
       "\t& Food\\_type & Oat & Maize & Molasses\\\\\n",
       "\t\\hline\n",
       "\t& String & Float64 & Float64 & Float64\\\\\n",
       "\t\\hline\n",
       "\t1 & Granule & 5098.56 & 3719.53 & 181.914 \\\\\n",
       "\t2 & Powder & 6798.07 & 4959.37 & 242.552 \\\\\n",
       "\\end{tabular}\n"
      ],
      "text/plain": [
       "2×4 DataFrame\n",
       "│ Row │ Food_type │ Oat     │ Maize   │ Molasses │\n",
       "│     │ \u001b[90mString\u001b[39m    │ \u001b[90mFloat64\u001b[39m │ \u001b[90mFloat64\u001b[39m │ \u001b[90mFloat64\u001b[39m  │\n",
       "├─────┼───────────┼─────────┼─────────┼──────────┤\n",
       "│ 1   │ Granule   │ 5098.56 │ 3719.53 │ 181.914  │\n",
       "│ 2   │ Powder    │ 6798.07 │ 4959.37 │ 242.552  │"
      ]
     },
     "execution_count": 18,
     "metadata": {},
     "output_type": "execute_result"
    }
   ],
   "source": [
    "insert!(results, 1, [\"Granule\", \"Powder\"], :Food_type)"
   ]
  },
  {
   "cell_type": "code",
   "execution_count": 19,
   "metadata": {},
   "outputs": [
    {
     "data": {
      "text/html": [
       "<table class=\"data-frame\"><thead><tr><th></th><th>Food_type</th><th>Oat</th><th>Maize</th><th>Molasses</th><th>Protein</th><th>Lipid</th><th>Fiber</th></tr><tr><th></th><th>String</th><th>Float64</th><th>Float64</th><th>Float64</th><th>Float64</th><th>Float64</th><th>Float64</th></tr></thead><tbody><p>2 rows × 7 columns</p><tr><th>1</th><td>Granule</td><td>5098.56</td><td>3719.53</td><td>181.914</td><td>9.5</td><td>5.02</td><td>6.0</td></tr><tr><th>2</th><td>Powder</td><td>6798.07</td><td>4959.37</td><td>242.552</td><td>9.5</td><td>5.02</td><td>6.0</td></tr></tbody></table>"
      ],
      "text/latex": [
       "\\begin{tabular}{r|ccccccc}\n",
       "\t& Food\\_type & Oat & Maize & Molasses & Protein & Lipid & Fiber\\\\\n",
       "\t\\hline\n",
       "\t& String & Float64 & Float64 & Float64 & Float64 & Float64 & Float64\\\\\n",
       "\t\\hline\n",
       "\t1 & Granule & 5098.56 & 3719.53 & 181.914 & 9.5 & 5.02 & 6.0 \\\\\n",
       "\t2 & Powder & 6798.07 & 4959.37 & 242.552 & 9.5 & 5.02 & 6.0 \\\\\n",
       "\\end{tabular}\n"
      ],
      "text/plain": [
       "2×7 DataFrame\n",
       "│ Row │ Food_type │ Oat     │ Maize   │ Molasses │ Protein │ Lipid   │ Fiber   │\n",
       "│     │ \u001b[90mString\u001b[39m    │ \u001b[90mFloat64\u001b[39m │ \u001b[90mFloat64\u001b[39m │ \u001b[90mFloat64\u001b[39m  │ \u001b[90mFloat64\u001b[39m │ \u001b[90mFloat64\u001b[39m │ \u001b[90mFloat64\u001b[39m │\n",
       "├─────┼───────────┼─────────┼─────────┼──────────┼─────────┼─────────┼─────────┤\n",
       "│ 1   │ Granule   │ 5098.56 │ 3719.53 │ 181.914  │ 9.5     │ 5.02    │ 6.0     │\n",
       "│ 2   │ Powder    │ 6798.07 │ 4959.37 │ 242.552  │ 9.5     │ 5.02    │ 6.0     │"
      ]
     },
     "execution_count": 19,
     "metadata": {},
     "output_type": "execute_result"
    }
   ],
   "source": [
    "hcat(results, DataFrame(hcat(round.(con_gran, digits = 2), round.(con_pow, digits = 2))', [:Protein, :Lipid, :Fiber]))"
   ]
  },
  {
   "cell_type": "code",
   "execution_count": null,
   "metadata": {},
   "outputs": [],
   "source": []
  }
 ],
 "metadata": {
  "kernelspec": {
   "display_name": "Julia 1.5.0",
   "language": "julia",
   "name": "julia-1.5"
  },
  "language_info": {
   "file_extension": ".jl",
   "mimetype": "application/julia",
   "name": "julia",
   "version": "1.5.0"
  }
 },
 "nbformat": 4,
 "nbformat_minor": 4
}
